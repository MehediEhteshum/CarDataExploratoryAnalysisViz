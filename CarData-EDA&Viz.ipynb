{
 "cells": [
  {
   "cell_type": "markdown",
   "metadata": {},
   "source": [
    "<h2>Car Data - Exploratory Data Analysis</h2>"
   ]
  },
  {
   "cell_type": "markdown",
   "metadata": {},
   "source": [
    "<h3>Import</h3>\n",
    "Importing necessary Python packages."
   ]
  },
  {
   "cell_type": "code",
   "execution_count": 1,
   "metadata": {},
   "outputs": [],
   "source": [
    "import pandas as pd\n",
    "import numpy as np\n",
    "import seaborn as sns\n",
    "import matplotlib.pyplot as plt"
   ]
  },
  {
   "cell_type": "markdown",
   "metadata": {},
   "source": [
    "<h3>Dataframe</h3>\n",
    "Creating dataframe (df) from saved csv (wrangled)."
   ]
  },
  {
   "cell_type": "code",
   "execution_count": 2,
   "metadata": {},
   "outputs": [
    {
     "data": {
      "text/html": [
       "<div>\n",
       "<style scoped>\n",
       "    .dataframe tbody tr th:only-of-type {\n",
       "        vertical-align: middle;\n",
       "    }\n",
       "\n",
       "    .dataframe tbody tr th {\n",
       "        vertical-align: top;\n",
       "    }\n",
       "\n",
       "    .dataframe thead th {\n",
       "        text-align: right;\n",
       "    }\n",
       "</style>\n",
       "<table border=\"1\" class=\"dataframe\">\n",
       "  <thead>\n",
       "    <tr style=\"text-align: right;\">\n",
       "      <th></th>\n",
       "      <th>symboling</th>\n",
       "      <th>normalized-losses</th>\n",
       "      <th>make</th>\n",
       "      <th>num-of-doors</th>\n",
       "      <th>body-style</th>\n",
       "      <th>drive-wheels</th>\n",
       "      <th>engine-location</th>\n",
       "      <th>wheel-base</th>\n",
       "      <th>length</th>\n",
       "      <th>width</th>\n",
       "      <th>...</th>\n",
       "      <th>stroke</th>\n",
       "      <th>compression-ratio</th>\n",
       "      <th>horsepower</th>\n",
       "      <th>peak-rpm</th>\n",
       "      <th>city-L/100km</th>\n",
       "      <th>highway-L/100km</th>\n",
       "      <th>price</th>\n",
       "      <th>hrspwr-binned</th>\n",
       "      <th>fueltyp-diesel(0)/gas(1)</th>\n",
       "      <th>aspiration-std(1)/turbo(0)</th>\n",
       "    </tr>\n",
       "  </thead>\n",
       "  <tbody>\n",
       "    <tr>\n",
       "      <th>0</th>\n",
       "      <td>3</td>\n",
       "      <td>122.0</td>\n",
       "      <td>alfa-romero</td>\n",
       "      <td>two</td>\n",
       "      <td>convertible</td>\n",
       "      <td>rwd</td>\n",
       "      <td>front</td>\n",
       "      <td>88.6</td>\n",
       "      <td>-0.44</td>\n",
       "      <td>-0.85</td>\n",
       "      <td>...</td>\n",
       "      <td>2.68</td>\n",
       "      <td>9.0</td>\n",
       "      <td>111.0</td>\n",
       "      <td>5000.0</td>\n",
       "      <td>11.19</td>\n",
       "      <td>8.70</td>\n",
       "      <td>13495.0</td>\n",
       "      <td>Low</td>\n",
       "      <td>0</td>\n",
       "      <td>1</td>\n",
       "    </tr>\n",
       "    <tr>\n",
       "      <th>1</th>\n",
       "      <td>3</td>\n",
       "      <td>122.0</td>\n",
       "      <td>alfa-romero</td>\n",
       "      <td>two</td>\n",
       "      <td>convertible</td>\n",
       "      <td>rwd</td>\n",
       "      <td>front</td>\n",
       "      <td>88.6</td>\n",
       "      <td>-0.44</td>\n",
       "      <td>-0.85</td>\n",
       "      <td>...</td>\n",
       "      <td>2.68</td>\n",
       "      <td>9.0</td>\n",
       "      <td>111.0</td>\n",
       "      <td>5000.0</td>\n",
       "      <td>11.19</td>\n",
       "      <td>8.70</td>\n",
       "      <td>16500.0</td>\n",
       "      <td>Low</td>\n",
       "      <td>0</td>\n",
       "      <td>1</td>\n",
       "    </tr>\n",
       "    <tr>\n",
       "      <th>2</th>\n",
       "      <td>1</td>\n",
       "      <td>122.0</td>\n",
       "      <td>alfa-romero</td>\n",
       "      <td>two</td>\n",
       "      <td>hatchback</td>\n",
       "      <td>rwd</td>\n",
       "      <td>front</td>\n",
       "      <td>94.5</td>\n",
       "      <td>-0.24</td>\n",
       "      <td>-0.19</td>\n",
       "      <td>...</td>\n",
       "      <td>3.47</td>\n",
       "      <td>9.0</td>\n",
       "      <td>154.0</td>\n",
       "      <td>5000.0</td>\n",
       "      <td>12.37</td>\n",
       "      <td>9.04</td>\n",
       "      <td>16500.0</td>\n",
       "      <td>Medium</td>\n",
       "      <td>0</td>\n",
       "      <td>1</td>\n",
       "    </tr>\n",
       "    <tr>\n",
       "      <th>3</th>\n",
       "      <td>2</td>\n",
       "      <td>164.0</td>\n",
       "      <td>audi</td>\n",
       "      <td>four</td>\n",
       "      <td>sedan</td>\n",
       "      <td>fwd</td>\n",
       "      <td>front</td>\n",
       "      <td>99.8</td>\n",
       "      <td>0.19</td>\n",
       "      <td>0.15</td>\n",
       "      <td>...</td>\n",
       "      <td>3.40</td>\n",
       "      <td>10.0</td>\n",
       "      <td>102.0</td>\n",
       "      <td>5500.0</td>\n",
       "      <td>9.79</td>\n",
       "      <td>7.83</td>\n",
       "      <td>13950.0</td>\n",
       "      <td>Low</td>\n",
       "      <td>0</td>\n",
       "      <td>1</td>\n",
       "    </tr>\n",
       "    <tr>\n",
       "      <th>4</th>\n",
       "      <td>2</td>\n",
       "      <td>164.0</td>\n",
       "      <td>audi</td>\n",
       "      <td>four</td>\n",
       "      <td>sedan</td>\n",
       "      <td>4wd</td>\n",
       "      <td>front</td>\n",
       "      <td>99.4</td>\n",
       "      <td>0.19</td>\n",
       "      <td>0.24</td>\n",
       "      <td>...</td>\n",
       "      <td>3.40</td>\n",
       "      <td>8.0</td>\n",
       "      <td>115.0</td>\n",
       "      <td>5500.0</td>\n",
       "      <td>13.06</td>\n",
       "      <td>10.68</td>\n",
       "      <td>17450.0</td>\n",
       "      <td>Low</td>\n",
       "      <td>0</td>\n",
       "      <td>1</td>\n",
       "    </tr>\n",
       "  </tbody>\n",
       "</table>\n",
       "<p>5 rows × 27 columns</p>\n",
       "</div>"
      ],
      "text/plain": [
       "   symboling  normalized-losses         make num-of-doors   body-style  \\\n",
       "0          3              122.0  alfa-romero          two  convertible   \n",
       "1          3              122.0  alfa-romero          two  convertible   \n",
       "2          1              122.0  alfa-romero          two    hatchback   \n",
       "3          2              164.0         audi         four        sedan   \n",
       "4          2              164.0         audi         four        sedan   \n",
       "\n",
       "  drive-wheels engine-location  wheel-base  length  width  ...  stroke  \\\n",
       "0          rwd           front        88.6   -0.44  -0.85  ...    2.68   \n",
       "1          rwd           front        88.6   -0.44  -0.85  ...    2.68   \n",
       "2          rwd           front        94.5   -0.24  -0.19  ...    3.47   \n",
       "3          fwd           front        99.8    0.19   0.15  ...    3.40   \n",
       "4          4wd           front        99.4    0.19   0.24  ...    3.40   \n",
       "\n",
       "   compression-ratio horsepower peak-rpm  city-L/100km highway-L/100km  \\\n",
       "0                9.0      111.0   5000.0         11.19            8.70   \n",
       "1                9.0      111.0   5000.0         11.19            8.70   \n",
       "2                9.0      154.0   5000.0         12.37            9.04   \n",
       "3               10.0      102.0   5500.0          9.79            7.83   \n",
       "4                8.0      115.0   5500.0         13.06           10.68   \n",
       "\n",
       "     price  hrspwr-binned  fueltyp-diesel(0)/gas(1)  \\\n",
       "0  13495.0            Low                         0   \n",
       "1  16500.0            Low                         0   \n",
       "2  16500.0         Medium                         0   \n",
       "3  13950.0            Low                         0   \n",
       "4  17450.0            Low                         0   \n",
       "\n",
       "   aspiration-std(1)/turbo(0)  \n",
       "0                           1  \n",
       "1                           1  \n",
       "2                           1  \n",
       "3                           1  \n",
       "4                           1  \n",
       "\n",
       "[5 rows x 27 columns]"
      ]
     },
     "execution_count": 2,
     "metadata": {},
     "output_type": "execute_result"
    }
   ],
   "source": [
    "path = \"CarPriceData-wrangled.csv\"\n",
    "df = pd.read_csv(path)\n",
    "df.head()"
   ]
  },
  {
   "cell_type": "markdown",
   "metadata": {},
   "source": [
    "<h3>Analizing individual feature patterns using data viz</h3>"
   ]
  },
  {
   "cell_type": "markdown",
   "metadata": {},
   "source": [
    "For this, understanding of variable types is important."
   ]
  },
  {
   "cell_type": "code",
   "execution_count": 3,
   "metadata": {},
   "outputs": [
    {
     "data": {
      "text/plain": [
       "symboling                       int64\n",
       "normalized-losses             float64\n",
       "make                           object\n",
       "num-of-doors                   object\n",
       "body-style                     object\n",
       "drive-wheels                   object\n",
       "engine-location                object\n",
       "wheel-base                    float64\n",
       "length                        float64\n",
       "width                         float64\n",
       "height                        float64\n",
       "curb-weight                     int64\n",
       "engine-type                    object\n",
       "num-of-cylinders               object\n",
       "engine-size                     int64\n",
       "fuel-system                    object\n",
       "bore                          float64\n",
       "stroke                        float64\n",
       "compression-ratio             float64\n",
       "horsepower                    float64\n",
       "peak-rpm                      float64\n",
       "city-L/100km                  float64\n",
       "highway-L/100km               float64\n",
       "price                         float64\n",
       "hrspwr-binned                  object\n",
       "fueltyp-diesel(0)/gas(1)        int64\n",
       "aspiration-std(1)/turbo(0)      int64\n",
       "dtype: object"
      ]
     },
     "execution_count": 3,
     "metadata": {},
     "output_type": "execute_result"
    }
   ],
   "source": [
    "df.dtypes"
   ]
  },
  {
   "cell_type": "markdown",
   "metadata": {},
   "source": [
    "Most numerical/quantative variables' simple correlation can be found as below."
   ]
  },
  {
   "cell_type": "code",
   "execution_count": 4,
   "metadata": {},
   "outputs": [
    {
     "data": {
      "text/html": [
       "<div>\n",
       "<style scoped>\n",
       "    .dataframe tbody tr th:only-of-type {\n",
       "        vertical-align: middle;\n",
       "    }\n",
       "\n",
       "    .dataframe tbody tr th {\n",
       "        vertical-align: top;\n",
       "    }\n",
       "\n",
       "    .dataframe thead th {\n",
       "        text-align: right;\n",
       "    }\n",
       "</style>\n",
       "<table border=\"1\" class=\"dataframe\">\n",
       "  <thead>\n",
       "    <tr style=\"text-align: right;\">\n",
       "      <th></th>\n",
       "      <th>symboling</th>\n",
       "      <th>normalized-losses</th>\n",
       "      <th>wheel-base</th>\n",
       "      <th>length</th>\n",
       "      <th>width</th>\n",
       "      <th>height</th>\n",
       "      <th>curb-weight</th>\n",
       "      <th>engine-size</th>\n",
       "      <th>bore</th>\n",
       "      <th>stroke</th>\n",
       "      <th>compression-ratio</th>\n",
       "      <th>horsepower</th>\n",
       "      <th>peak-rpm</th>\n",
       "      <th>city-L/100km</th>\n",
       "      <th>highway-L/100km</th>\n",
       "      <th>price</th>\n",
       "      <th>fueltyp-diesel(0)/gas(1)</th>\n",
       "      <th>aspiration-std(1)/turbo(0)</th>\n",
       "    </tr>\n",
       "  </thead>\n",
       "  <tbody>\n",
       "    <tr>\n",
       "      <th>symboling</th>\n",
       "      <td>1.000000</td>\n",
       "      <td>0.466264</td>\n",
       "      <td>-0.535987</td>\n",
       "      <td>-0.364594</td>\n",
       "      <td>-0.242062</td>\n",
       "      <td>-0.550377</td>\n",
       "      <td>-0.233118</td>\n",
       "      <td>-0.110581</td>\n",
       "      <td>-0.140019</td>\n",
       "      <td>-0.008153</td>\n",
       "      <td>-0.182196</td>\n",
       "      <td>0.075819</td>\n",
       "      <td>0.279740</td>\n",
       "      <td>0.066183</td>\n",
       "      <td>-0.029756</td>\n",
       "      <td>-0.082391</td>\n",
       "      <td>-0.196735</td>\n",
       "      <td>0.054615</td>\n",
       "    </tr>\n",
       "    <tr>\n",
       "      <th>normalized-losses</th>\n",
       "      <td>0.466264</td>\n",
       "      <td>1.000000</td>\n",
       "      <td>-0.056661</td>\n",
       "      <td>0.019527</td>\n",
       "      <td>0.086978</td>\n",
       "      <td>-0.373608</td>\n",
       "      <td>0.099404</td>\n",
       "      <td>0.112360</td>\n",
       "      <td>-0.029862</td>\n",
       "      <td>0.055045</td>\n",
       "      <td>-0.114713</td>\n",
       "      <td>0.217299</td>\n",
       "      <td>0.239543</td>\n",
       "      <td>0.238710</td>\n",
       "      <td>0.181024</td>\n",
       "      <td>0.133999</td>\n",
       "      <td>-0.101546</td>\n",
       "      <td>0.006911</td>\n",
       "    </tr>\n",
       "    <tr>\n",
       "      <th>wheel-base</th>\n",
       "      <td>-0.535987</td>\n",
       "      <td>-0.056661</td>\n",
       "      <td>1.000000</td>\n",
       "      <td>0.875684</td>\n",
       "      <td>0.814198</td>\n",
       "      <td>0.591057</td>\n",
       "      <td>0.782097</td>\n",
       "      <td>0.572027</td>\n",
       "      <td>0.493244</td>\n",
       "      <td>0.158018</td>\n",
       "      <td>0.250313</td>\n",
       "      <td>0.371147</td>\n",
       "      <td>-0.360305</td>\n",
       "      <td>0.476255</td>\n",
       "      <td>0.577655</td>\n",
       "      <td>0.584642</td>\n",
       "      <td>0.307237</td>\n",
       "      <td>-0.256889</td>\n",
       "    </tr>\n",
       "    <tr>\n",
       "      <th>length</th>\n",
       "      <td>-0.364594</td>\n",
       "      <td>0.019527</td>\n",
       "      <td>0.875684</td>\n",
       "      <td>1.000000</td>\n",
       "      <td>0.857071</td>\n",
       "      <td>0.491653</td>\n",
       "      <td>0.880720</td>\n",
       "      <td>0.685254</td>\n",
       "      <td>0.608712</td>\n",
       "      <td>0.124261</td>\n",
       "      <td>0.159992</td>\n",
       "      <td>0.580136</td>\n",
       "      <td>-0.285631</td>\n",
       "      <td>0.657776</td>\n",
       "      <td>0.707321</td>\n",
       "      <td>0.690950</td>\n",
       "      <td>0.211409</td>\n",
       "      <td>-0.230298</td>\n",
       "    </tr>\n",
       "    <tr>\n",
       "      <th>width</th>\n",
       "      <td>-0.242062</td>\n",
       "      <td>0.086978</td>\n",
       "      <td>0.814198</td>\n",
       "      <td>0.857071</td>\n",
       "      <td>1.000000</td>\n",
       "      <td>0.305050</td>\n",
       "      <td>0.866204</td>\n",
       "      <td>0.729931</td>\n",
       "      <td>0.545097</td>\n",
       "      <td>0.189004</td>\n",
       "      <td>0.189312</td>\n",
       "      <td>0.615562</td>\n",
       "      <td>-0.245679</td>\n",
       "      <td>0.673881</td>\n",
       "      <td>0.737282</td>\n",
       "      <td>0.751697</td>\n",
       "      <td>0.243909</td>\n",
       "      <td>-0.306110</td>\n",
       "    </tr>\n",
       "    <tr>\n",
       "      <th>height</th>\n",
       "      <td>-0.550377</td>\n",
       "      <td>-0.373608</td>\n",
       "      <td>0.591057</td>\n",
       "      <td>0.491653</td>\n",
       "      <td>0.305050</td>\n",
       "      <td>1.000000</td>\n",
       "      <td>0.307522</td>\n",
       "      <td>0.074514</td>\n",
       "      <td>0.180114</td>\n",
       "      <td>-0.060438</td>\n",
       "      <td>0.260023</td>\n",
       "      <td>-0.087611</td>\n",
       "      <td>-0.310240</td>\n",
       "      <td>0.003432</td>\n",
       "      <td>0.084128</td>\n",
       "      <td>0.135283</td>\n",
       "      <td>0.281848</td>\n",
       "      <td>-0.090139</td>\n",
       "    </tr>\n",
       "    <tr>\n",
       "      <th>curb-weight</th>\n",
       "      <td>-0.233118</td>\n",
       "      <td>0.099404</td>\n",
       "      <td>0.782097</td>\n",
       "      <td>0.880720</td>\n",
       "      <td>0.866204</td>\n",
       "      <td>0.307522</td>\n",
       "      <td>1.000000</td>\n",
       "      <td>0.849072</td>\n",
       "      <td>0.644060</td>\n",
       "      <td>0.167438</td>\n",
       "      <td>0.156433</td>\n",
       "      <td>0.757976</td>\n",
       "      <td>-0.279361</td>\n",
       "      <td>0.785391</td>\n",
       "      <td>0.836978</td>\n",
       "      <td>0.834415</td>\n",
       "      <td>0.221046</td>\n",
       "      <td>-0.321955</td>\n",
       "    </tr>\n",
       "    <tr>\n",
       "      <th>engine-size</th>\n",
       "      <td>-0.110581</td>\n",
       "      <td>0.112360</td>\n",
       "      <td>0.572027</td>\n",
       "      <td>0.685254</td>\n",
       "      <td>0.729931</td>\n",
       "      <td>0.074514</td>\n",
       "      <td>0.849072</td>\n",
       "      <td>1.000000</td>\n",
       "      <td>0.572609</td>\n",
       "      <td>0.205928</td>\n",
       "      <td>0.028889</td>\n",
       "      <td>0.822676</td>\n",
       "      <td>-0.256733</td>\n",
       "      <td>0.745120</td>\n",
       "      <td>0.783518</td>\n",
       "      <td>0.872335</td>\n",
       "      <td>0.070779</td>\n",
       "      <td>-0.110040</td>\n",
       "    </tr>\n",
       "    <tr>\n",
       "      <th>bore</th>\n",
       "      <td>-0.140019</td>\n",
       "      <td>-0.029862</td>\n",
       "      <td>0.493244</td>\n",
       "      <td>0.608712</td>\n",
       "      <td>0.545097</td>\n",
       "      <td>0.180114</td>\n",
       "      <td>0.644060</td>\n",
       "      <td>0.572609</td>\n",
       "      <td>1.000000</td>\n",
       "      <td>-0.055390</td>\n",
       "      <td>0.001263</td>\n",
       "      <td>0.566936</td>\n",
       "      <td>-0.267392</td>\n",
       "      <td>0.554656</td>\n",
       "      <td>0.559095</td>\n",
       "      <td>0.543155</td>\n",
       "      <td>0.054458</td>\n",
       "      <td>-0.227816</td>\n",
       "    </tr>\n",
       "    <tr>\n",
       "      <th>stroke</th>\n",
       "      <td>-0.008153</td>\n",
       "      <td>0.055045</td>\n",
       "      <td>0.158018</td>\n",
       "      <td>0.124261</td>\n",
       "      <td>0.189004</td>\n",
       "      <td>-0.060438</td>\n",
       "      <td>0.167438</td>\n",
       "      <td>0.205928</td>\n",
       "      <td>-0.055390</td>\n",
       "      <td>1.000000</td>\n",
       "      <td>0.187871</td>\n",
       "      <td>0.098267</td>\n",
       "      <td>-0.063561</td>\n",
       "      <td>0.036130</td>\n",
       "      <td>0.047118</td>\n",
       "      <td>0.082269</td>\n",
       "      <td>0.241064</td>\n",
       "      <td>-0.218233</td>\n",
       "    </tr>\n",
       "    <tr>\n",
       "      <th>compression-ratio</th>\n",
       "      <td>-0.182196</td>\n",
       "      <td>-0.114713</td>\n",
       "      <td>0.250313</td>\n",
       "      <td>0.159992</td>\n",
       "      <td>0.189312</td>\n",
       "      <td>0.260023</td>\n",
       "      <td>0.156433</td>\n",
       "      <td>0.028889</td>\n",
       "      <td>0.001263</td>\n",
       "      <td>0.187871</td>\n",
       "      <td>1.000000</td>\n",
       "      <td>-0.214514</td>\n",
       "      <td>-0.435780</td>\n",
       "      <td>-0.299408</td>\n",
       "      <td>-0.222971</td>\n",
       "      <td>0.071107</td>\n",
       "      <td>0.985231</td>\n",
       "      <td>-0.307522</td>\n",
       "    </tr>\n",
       "    <tr>\n",
       "      <th>horsepower</th>\n",
       "      <td>0.075819</td>\n",
       "      <td>0.217299</td>\n",
       "      <td>0.371147</td>\n",
       "      <td>0.580136</td>\n",
       "      <td>0.615562</td>\n",
       "      <td>-0.087611</td>\n",
       "      <td>0.757976</td>\n",
       "      <td>0.822676</td>\n",
       "      <td>0.566936</td>\n",
       "      <td>0.098267</td>\n",
       "      <td>-0.214514</td>\n",
       "      <td>1.000000</td>\n",
       "      <td>0.107885</td>\n",
       "      <td>0.889466</td>\n",
       "      <td>0.840579</td>\n",
       "      <td>0.809575</td>\n",
       "      <td>-0.169053</td>\n",
       "      <td>-0.251127</td>\n",
       "    </tr>\n",
       "    <tr>\n",
       "      <th>peak-rpm</th>\n",
       "      <td>0.279740</td>\n",
       "      <td>0.239543</td>\n",
       "      <td>-0.360305</td>\n",
       "      <td>-0.285631</td>\n",
       "      <td>-0.245679</td>\n",
       "      <td>-0.310240</td>\n",
       "      <td>-0.279361</td>\n",
       "      <td>-0.256733</td>\n",
       "      <td>-0.267392</td>\n",
       "      <td>-0.063561</td>\n",
       "      <td>-0.435780</td>\n",
       "      <td>0.107885</td>\n",
       "      <td>1.000000</td>\n",
       "      <td>0.115821</td>\n",
       "      <td>0.017584</td>\n",
       "      <td>-0.101616</td>\n",
       "      <td>-0.475812</td>\n",
       "      <td>0.190057</td>\n",
       "    </tr>\n",
       "    <tr>\n",
       "      <th>city-L/100km</th>\n",
       "      <td>0.066183</td>\n",
       "      <td>0.238710</td>\n",
       "      <td>0.476255</td>\n",
       "      <td>0.657776</td>\n",
       "      <td>0.673881</td>\n",
       "      <td>0.003432</td>\n",
       "      <td>0.785391</td>\n",
       "      <td>0.745120</td>\n",
       "      <td>0.554656</td>\n",
       "      <td>0.036130</td>\n",
       "      <td>-0.299408</td>\n",
       "      <td>0.889466</td>\n",
       "      <td>0.115821</td>\n",
       "      <td>1.000000</td>\n",
       "      <td>0.958281</td>\n",
       "      <td>0.789917</td>\n",
       "      <td>-0.241308</td>\n",
       "      <td>-0.157545</td>\n",
       "    </tr>\n",
       "    <tr>\n",
       "      <th>highway-L/100km</th>\n",
       "      <td>-0.029756</td>\n",
       "      <td>0.181024</td>\n",
       "      <td>0.577655</td>\n",
       "      <td>0.707321</td>\n",
       "      <td>0.737282</td>\n",
       "      <td>0.084128</td>\n",
       "      <td>0.836978</td>\n",
       "      <td>0.783518</td>\n",
       "      <td>0.559095</td>\n",
       "      <td>0.047118</td>\n",
       "      <td>-0.222971</td>\n",
       "      <td>0.840579</td>\n",
       "      <td>0.017584</td>\n",
       "      <td>0.958281</td>\n",
       "      <td>1.000000</td>\n",
       "      <td>0.801259</td>\n",
       "      <td>-0.157714</td>\n",
       "      <td>-0.210772</td>\n",
       "    </tr>\n",
       "    <tr>\n",
       "      <th>price</th>\n",
       "      <td>-0.082391</td>\n",
       "      <td>0.133999</td>\n",
       "      <td>0.584642</td>\n",
       "      <td>0.690950</td>\n",
       "      <td>0.751697</td>\n",
       "      <td>0.135283</td>\n",
       "      <td>0.834415</td>\n",
       "      <td>0.872335</td>\n",
       "      <td>0.543155</td>\n",
       "      <td>0.082269</td>\n",
       "      <td>0.071107</td>\n",
       "      <td>0.809575</td>\n",
       "      <td>-0.101616</td>\n",
       "      <td>0.789917</td>\n",
       "      <td>0.801259</td>\n",
       "      <td>1.000000</td>\n",
       "      <td>0.110326</td>\n",
       "      <td>-0.179578</td>\n",
       "    </tr>\n",
       "    <tr>\n",
       "      <th>fueltyp-diesel(0)/gas(1)</th>\n",
       "      <td>-0.196735</td>\n",
       "      <td>-0.101546</td>\n",
       "      <td>0.307237</td>\n",
       "      <td>0.211409</td>\n",
       "      <td>0.243909</td>\n",
       "      <td>0.281848</td>\n",
       "      <td>0.221046</td>\n",
       "      <td>0.070779</td>\n",
       "      <td>0.054458</td>\n",
       "      <td>0.241064</td>\n",
       "      <td>0.985231</td>\n",
       "      <td>-0.169053</td>\n",
       "      <td>-0.475812</td>\n",
       "      <td>-0.241308</td>\n",
       "      <td>-0.157714</td>\n",
       "      <td>0.110326</td>\n",
       "      <td>1.000000</td>\n",
       "      <td>-0.408228</td>\n",
       "    </tr>\n",
       "    <tr>\n",
       "      <th>aspiration-std(1)/turbo(0)</th>\n",
       "      <td>0.054615</td>\n",
       "      <td>0.006911</td>\n",
       "      <td>-0.256889</td>\n",
       "      <td>-0.230298</td>\n",
       "      <td>-0.306110</td>\n",
       "      <td>-0.090139</td>\n",
       "      <td>-0.321955</td>\n",
       "      <td>-0.110040</td>\n",
       "      <td>-0.227816</td>\n",
       "      <td>-0.218233</td>\n",
       "      <td>-0.307522</td>\n",
       "      <td>-0.251127</td>\n",
       "      <td>0.190057</td>\n",
       "      <td>-0.157545</td>\n",
       "      <td>-0.210772</td>\n",
       "      <td>-0.179578</td>\n",
       "      <td>-0.408228</td>\n",
       "      <td>1.000000</td>\n",
       "    </tr>\n",
       "  </tbody>\n",
       "</table>\n",
       "</div>"
      ],
      "text/plain": [
       "                            symboling  normalized-losses  wheel-base  \\\n",
       "symboling                    1.000000           0.466264   -0.535987   \n",
       "normalized-losses            0.466264           1.000000   -0.056661   \n",
       "wheel-base                  -0.535987          -0.056661    1.000000   \n",
       "length                      -0.364594           0.019527    0.875684   \n",
       "width                       -0.242062           0.086978    0.814198   \n",
       "height                      -0.550377          -0.373608    0.591057   \n",
       "curb-weight                 -0.233118           0.099404    0.782097   \n",
       "engine-size                 -0.110581           0.112360    0.572027   \n",
       "bore                        -0.140019          -0.029862    0.493244   \n",
       "stroke                      -0.008153           0.055045    0.158018   \n",
       "compression-ratio           -0.182196          -0.114713    0.250313   \n",
       "horsepower                   0.075819           0.217299    0.371147   \n",
       "peak-rpm                     0.279740           0.239543   -0.360305   \n",
       "city-L/100km                 0.066183           0.238710    0.476255   \n",
       "highway-L/100km             -0.029756           0.181024    0.577655   \n",
       "price                       -0.082391           0.133999    0.584642   \n",
       "fueltyp-diesel(0)/gas(1)    -0.196735          -0.101546    0.307237   \n",
       "aspiration-std(1)/turbo(0)   0.054615           0.006911   -0.256889   \n",
       "\n",
       "                              length     width    height  curb-weight  \\\n",
       "symboling                  -0.364594 -0.242062 -0.550377    -0.233118   \n",
       "normalized-losses           0.019527  0.086978 -0.373608     0.099404   \n",
       "wheel-base                  0.875684  0.814198  0.591057     0.782097   \n",
       "length                      1.000000  0.857071  0.491653     0.880720   \n",
       "width                       0.857071  1.000000  0.305050     0.866204   \n",
       "height                      0.491653  0.305050  1.000000     0.307522   \n",
       "curb-weight                 0.880720  0.866204  0.307522     1.000000   \n",
       "engine-size                 0.685254  0.729931  0.074514     0.849072   \n",
       "bore                        0.608712  0.545097  0.180114     0.644060   \n",
       "stroke                      0.124261  0.189004 -0.060438     0.167438   \n",
       "compression-ratio           0.159992  0.189312  0.260023     0.156433   \n",
       "horsepower                  0.580136  0.615562 -0.087611     0.757976   \n",
       "peak-rpm                   -0.285631 -0.245679 -0.310240    -0.279361   \n",
       "city-L/100km                0.657776  0.673881  0.003432     0.785391   \n",
       "highway-L/100km             0.707321  0.737282  0.084128     0.836978   \n",
       "price                       0.690950  0.751697  0.135283     0.834415   \n",
       "fueltyp-diesel(0)/gas(1)    0.211409  0.243909  0.281848     0.221046   \n",
       "aspiration-std(1)/turbo(0) -0.230298 -0.306110 -0.090139    -0.321955   \n",
       "\n",
       "                            engine-size      bore    stroke  \\\n",
       "symboling                     -0.110581 -0.140019 -0.008153   \n",
       "normalized-losses              0.112360 -0.029862  0.055045   \n",
       "wheel-base                     0.572027  0.493244  0.158018   \n",
       "length                         0.685254  0.608712  0.124261   \n",
       "width                          0.729931  0.545097  0.189004   \n",
       "height                         0.074514  0.180114 -0.060438   \n",
       "curb-weight                    0.849072  0.644060  0.167438   \n",
       "engine-size                    1.000000  0.572609  0.205928   \n",
       "bore                           0.572609  1.000000 -0.055390   \n",
       "stroke                         0.205928 -0.055390  1.000000   \n",
       "compression-ratio              0.028889  0.001263  0.187871   \n",
       "horsepower                     0.822676  0.566936  0.098267   \n",
       "peak-rpm                      -0.256733 -0.267392 -0.063561   \n",
       "city-L/100km                   0.745120  0.554656  0.036130   \n",
       "highway-L/100km                0.783518  0.559095  0.047118   \n",
       "price                          0.872335  0.543155  0.082269   \n",
       "fueltyp-diesel(0)/gas(1)       0.070779  0.054458  0.241064   \n",
       "aspiration-std(1)/turbo(0)    -0.110040 -0.227816 -0.218233   \n",
       "\n",
       "                            compression-ratio  horsepower  peak-rpm  \\\n",
       "symboling                           -0.182196    0.075819  0.279740   \n",
       "normalized-losses                   -0.114713    0.217299  0.239543   \n",
       "wheel-base                           0.250313    0.371147 -0.360305   \n",
       "length                               0.159992    0.580136 -0.285631   \n",
       "width                                0.189312    0.615562 -0.245679   \n",
       "height                               0.260023   -0.087611 -0.310240   \n",
       "curb-weight                          0.156433    0.757976 -0.279361   \n",
       "engine-size                          0.028889    0.822676 -0.256733   \n",
       "bore                                 0.001263    0.566936 -0.267392   \n",
       "stroke                               0.187871    0.098267 -0.063561   \n",
       "compression-ratio                    1.000000   -0.214514 -0.435780   \n",
       "horsepower                          -0.214514    1.000000  0.107885   \n",
       "peak-rpm                            -0.435780    0.107885  1.000000   \n",
       "city-L/100km                        -0.299408    0.889466  0.115821   \n",
       "highway-L/100km                     -0.222971    0.840579  0.017584   \n",
       "price                                0.071107    0.809575 -0.101616   \n",
       "fueltyp-diesel(0)/gas(1)             0.985231   -0.169053 -0.475812   \n",
       "aspiration-std(1)/turbo(0)          -0.307522   -0.251127  0.190057   \n",
       "\n",
       "                            city-L/100km  highway-L/100km     price  \\\n",
       "symboling                       0.066183        -0.029756 -0.082391   \n",
       "normalized-losses               0.238710         0.181024  0.133999   \n",
       "wheel-base                      0.476255         0.577655  0.584642   \n",
       "length                          0.657776         0.707321  0.690950   \n",
       "width                           0.673881         0.737282  0.751697   \n",
       "height                          0.003432         0.084128  0.135283   \n",
       "curb-weight                     0.785391         0.836978  0.834415   \n",
       "engine-size                     0.745120         0.783518  0.872335   \n",
       "bore                            0.554656         0.559095  0.543155   \n",
       "stroke                          0.036130         0.047118  0.082269   \n",
       "compression-ratio              -0.299408        -0.222971  0.071107   \n",
       "horsepower                      0.889466         0.840579  0.809575   \n",
       "peak-rpm                        0.115821         0.017584 -0.101616   \n",
       "city-L/100km                    1.000000         0.958281  0.789917   \n",
       "highway-L/100km                 0.958281         1.000000  0.801259   \n",
       "price                           0.789917         0.801259  1.000000   \n",
       "fueltyp-diesel(0)/gas(1)       -0.241308        -0.157714  0.110326   \n",
       "aspiration-std(1)/turbo(0)     -0.157545        -0.210772 -0.179578   \n",
       "\n",
       "                            fueltyp-diesel(0)/gas(1)  \\\n",
       "symboling                                  -0.196735   \n",
       "normalized-losses                          -0.101546   \n",
       "wheel-base                                  0.307237   \n",
       "length                                      0.211409   \n",
       "width                                       0.243909   \n",
       "height                                      0.281848   \n",
       "curb-weight                                 0.221046   \n",
       "engine-size                                 0.070779   \n",
       "bore                                        0.054458   \n",
       "stroke                                      0.241064   \n",
       "compression-ratio                           0.985231   \n",
       "horsepower                                 -0.169053   \n",
       "peak-rpm                                   -0.475812   \n",
       "city-L/100km                               -0.241308   \n",
       "highway-L/100km                            -0.157714   \n",
       "price                                       0.110326   \n",
       "fueltyp-diesel(0)/gas(1)                    1.000000   \n",
       "aspiration-std(1)/turbo(0)                 -0.408228   \n",
       "\n",
       "                            aspiration-std(1)/turbo(0)  \n",
       "symboling                                     0.054615  \n",
       "normalized-losses                             0.006911  \n",
       "wheel-base                                   -0.256889  \n",
       "length                                       -0.230298  \n",
       "width                                        -0.306110  \n",
       "height                                       -0.090139  \n",
       "curb-weight                                  -0.321955  \n",
       "engine-size                                  -0.110040  \n",
       "bore                                         -0.227816  \n",
       "stroke                                       -0.218233  \n",
       "compression-ratio                            -0.307522  \n",
       "horsepower                                   -0.251127  \n",
       "peak-rpm                                      0.190057  \n",
       "city-L/100km                                 -0.157545  \n",
       "highway-L/100km                              -0.210772  \n",
       "price                                        -0.179578  \n",
       "fueltyp-diesel(0)/gas(1)                     -0.408228  \n",
       "aspiration-std(1)/turbo(0)                    1.000000  "
      ]
     },
     "execution_count": 4,
     "metadata": {},
     "output_type": "execute_result"
    }
   ],
   "source": [
    "df.corr()"
   ]
  },
  {
   "cell_type": "markdown",
   "metadata": {},
   "source": [
    "Note that, the diagonal correlations are always one, as these correlations are between same variables.\n",
    "Simple correlations of selective numerical variables are as below."
   ]
  },
  {
   "cell_type": "code",
   "execution_count": 5,
   "metadata": {},
   "outputs": [
    {
     "data": {
      "text/html": [
       "<div>\n",
       "<style scoped>\n",
       "    .dataframe tbody tr th:only-of-type {\n",
       "        vertical-align: middle;\n",
       "    }\n",
       "\n",
       "    .dataframe tbody tr th {\n",
       "        vertical-align: top;\n",
       "    }\n",
       "\n",
       "    .dataframe thead th {\n",
       "        text-align: right;\n",
       "    }\n",
       "</style>\n",
       "<table border=\"1\" class=\"dataframe\">\n",
       "  <thead>\n",
       "    <tr style=\"text-align: right;\">\n",
       "      <th></th>\n",
       "      <th>bore</th>\n",
       "      <th>stroke</th>\n",
       "      <th>compression-ratio</th>\n",
       "      <th>horsepower</th>\n",
       "    </tr>\n",
       "  </thead>\n",
       "  <tbody>\n",
       "    <tr>\n",
       "      <th>bore</th>\n",
       "      <td>1.000000</td>\n",
       "      <td>-0.055390</td>\n",
       "      <td>0.001263</td>\n",
       "      <td>0.566936</td>\n",
       "    </tr>\n",
       "    <tr>\n",
       "      <th>stroke</th>\n",
       "      <td>-0.055390</td>\n",
       "      <td>1.000000</td>\n",
       "      <td>0.187871</td>\n",
       "      <td>0.098267</td>\n",
       "    </tr>\n",
       "    <tr>\n",
       "      <th>compression-ratio</th>\n",
       "      <td>0.001263</td>\n",
       "      <td>0.187871</td>\n",
       "      <td>1.000000</td>\n",
       "      <td>-0.214514</td>\n",
       "    </tr>\n",
       "    <tr>\n",
       "      <th>horsepower</th>\n",
       "      <td>0.566936</td>\n",
       "      <td>0.098267</td>\n",
       "      <td>-0.214514</td>\n",
       "      <td>1.000000</td>\n",
       "    </tr>\n",
       "  </tbody>\n",
       "</table>\n",
       "</div>"
      ],
      "text/plain": [
       "                       bore    stroke  compression-ratio  horsepower\n",
       "bore               1.000000 -0.055390           0.001263    0.566936\n",
       "stroke            -0.055390  1.000000           0.187871    0.098267\n",
       "compression-ratio  0.001263  0.187871           1.000000   -0.214514\n",
       "horsepower         0.566936  0.098267          -0.214514    1.000000"
      ]
     },
     "execution_count": 5,
     "metadata": {},
     "output_type": "execute_result"
    }
   ],
   "source": [
    "df[[\"bore\", \"stroke\", \"compression-ratio\", \"horsepower\"]].corr()"
   ]
  },
  {
   "cell_type": "markdown",
   "metadata": {},
   "source": [
    "<strong>Positive linear relationship</strong> between a potential predictor variable and the target variable."
   ]
  },
  {
   "cell_type": "code",
   "execution_count": 6,
   "metadata": {},
   "outputs": [
    {
     "data": {
      "text/plain": [
       "(0.0, 339.25)"
      ]
     },
     "execution_count": 6,
     "metadata": {},
     "output_type": "execute_result"
    },
    {
     "data": {
      "image/png": "[encoded data removed]",
      "text/plain": [
       "<Figure size 432x288 with 1 Axes>"
      ]
     },
     "metadata": {
      "needs_background": "light"
     },
     "output_type": "display_data"
    }
   ],
   "source": [
    "sns.regplot(x=\"engine-size\", y=\"price\", data=df)\n",
    "plt.ylim(0,)\n",
    "plt.xlim(0,)"
   ]
  },
  {
   "cell_type": "markdown",
   "metadata": {},
   "source": [
    "The above variables' correlation must be positive, as can be seen on the plot, and can be verified as below."
   ]
  },
  {
   "cell_type": "code",
   "execution_count": 7,
   "metadata": {},
   "outputs": [
    {
     "data": {
      "text/html": [
       "<div>\n",
       "<style scoped>\n",
       "    .dataframe tbody tr th:only-of-type {\n",
       "        vertical-align: middle;\n",
       "    }\n",
       "\n",
       "    .dataframe tbody tr th {\n",
       "        vertical-align: top;\n",
       "    }\n",
       "\n",
       "    .dataframe thead th {\n",
       "        text-align: right;\n",
       "    }\n",
       "</style>\n",
       "<table border=\"1\" class=\"dataframe\">\n",
       "  <thead>\n",
       "    <tr style=\"text-align: right;\">\n",
       "      <th></th>\n",
       "      <th>engine-size</th>\n",
       "      <th>price</th>\n",
       "    </tr>\n",
       "  </thead>\n",
       "  <tbody>\n",
       "    <tr>\n",
       "      <th>engine-size</th>\n",
       "      <td>1.000000</td>\n",
       "      <td>0.872335</td>\n",
       "    </tr>\n",
       "    <tr>\n",
       "      <th>price</th>\n",
       "      <td>0.872335</td>\n",
       "      <td>1.000000</td>\n",
       "    </tr>\n",
       "  </tbody>\n",
       "</table>\n",
       "</div>"
      ],
      "text/plain": [
       "             engine-size     price\n",
       "engine-size     1.000000  0.872335\n",
       "price           0.872335  1.000000"
      ]
     },
     "execution_count": 7,
     "metadata": {},
     "output_type": "execute_result"
    }
   ],
   "source": [
    "df[[\"engine-size\", \"price\"]].corr()"
   ]
  },
  {
   "cell_type": "markdown",
   "metadata": {},
   "source": [
    "<strong>Negative linear relationship</strong> between a potential predictor variable and the target variable."
   ]
  },
  {
   "cell_type": "code",
   "execution_count": 8,
   "metadata": {},
   "outputs": [
    {
     "data": {
      "text/plain": [
       "<AxesSubplot:xlabel='peak-rpm', ylabel='price'>"
      ]
     },
     "execution_count": 8,
     "metadata": {},
     "output_type": "execute_result"
    },
    {
     "data": {
      "image/png": "[encoded data removed]",
      "text/plain": [
       "<Figure size 432x288 with 1 Axes>"
      ]
     },
     "metadata": {
      "needs_background": "light"
     },
     "output_type": "display_data"
    }
   ],
   "source": [
    "sns.regplot(x=\"peak-rpm\", y=\"price\", data=df)"
   ]
  },
  {
   "cell_type": "markdown",
   "metadata": {},
   "source": [
    "The above variables' correlation must be negative, as can be seen on the plot, and can be verified as below."
   ]
  },
  {
   "cell_type": "code",
   "execution_count": 9,
   "metadata": {},
   "outputs": [
    {
     "data": {
      "text/html": [
       "<div>\n",
       "<style scoped>\n",
       "    .dataframe tbody tr th:only-of-type {\n",
       "        vertical-align: middle;\n",
       "    }\n",
       "\n",
       "    .dataframe tbody tr th {\n",
       "        vertical-align: top;\n",
       "    }\n",
       "\n",
       "    .dataframe thead th {\n",
       "        text-align: right;\n",
       "    }\n",
       "</style>\n",
       "<table border=\"1\" class=\"dataframe\">\n",
       "  <thead>\n",
       "    <tr style=\"text-align: right;\">\n",
       "      <th></th>\n",
       "      <th>peak-rpm</th>\n",
       "      <th>price</th>\n",
       "    </tr>\n",
       "  </thead>\n",
       "  <tbody>\n",
       "    <tr>\n",
       "      <th>peak-rpm</th>\n",
       "      <td>1.000000</td>\n",
       "      <td>-0.101616</td>\n",
       "    </tr>\n",
       "    <tr>\n",
       "      <th>price</th>\n",
       "      <td>-0.101616</td>\n",
       "      <td>1.000000</td>\n",
       "    </tr>\n",
       "  </tbody>\n",
       "</table>\n",
       "</div>"
      ],
      "text/plain": [
       "          peak-rpm     price\n",
       "peak-rpm  1.000000 -0.101616\n",
       "price    -0.101616  1.000000"
      ]
     },
     "execution_count": 9,
     "metadata": {},
     "output_type": "execute_result"
    }
   ],
   "source": [
    "df[[\"peak-rpm\", \"price\"]].corr()"
   ]
  },
  {
   "cell_type": "markdown",
   "metadata": {},
   "source": [
    "It's not a good predictor as the correlation is weak (regression line is close to horizontal and data points are very scattered). Another example of <strong>weak correlation</strong> is given below."
   ]
  },
  {
   "cell_type": "code",
   "execution_count": 10,
   "metadata": {},
   "outputs": [
    {
     "data": {
      "text/html": [
       "<div>\n",
       "<style scoped>\n",
       "    .dataframe tbody tr th:only-of-type {\n",
       "        vertical-align: middle;\n",
       "    }\n",
       "\n",
       "    .dataframe tbody tr th {\n",
       "        vertical-align: top;\n",
       "    }\n",
       "\n",
       "    .dataframe thead th {\n",
       "        text-align: right;\n",
       "    }\n",
       "</style>\n",
       "<table border=\"1\" class=\"dataframe\">\n",
       "  <thead>\n",
       "    <tr style=\"text-align: right;\">\n",
       "      <th></th>\n",
       "      <th>stroke</th>\n",
       "      <th>price</th>\n",
       "    </tr>\n",
       "  </thead>\n",
       "  <tbody>\n",
       "    <tr>\n",
       "      <th>stroke</th>\n",
       "      <td>1.000000</td>\n",
       "      <td>0.082269</td>\n",
       "    </tr>\n",
       "    <tr>\n",
       "      <th>price</th>\n",
       "      <td>0.082269</td>\n",
       "      <td>1.000000</td>\n",
       "    </tr>\n",
       "  </tbody>\n",
       "</table>\n",
       "</div>"
      ],
      "text/plain": [
       "          stroke     price\n",
       "stroke  1.000000  0.082269\n",
       "price   0.082269  1.000000"
      ]
     },
     "execution_count": 10,
     "metadata": {},
     "output_type": "execute_result"
    },
    {
     "data": {
      "image/png": "[encoded data removed]",
      "text/plain": [
       "<Figure size 432x288 with 1 Axes>"
      ]
     },
     "metadata": {
      "needs_background": "light"
     },
     "output_type": "display_data"
    }
   ],
   "source": [
    "sns.regplot(x=\"stroke\", y=\"price\", data=df)\n",
    "df[[\"stroke\", \"price\"]].corr()"
   ]
  },
  {
   "cell_type": "markdown",
   "metadata": {},
   "source": [
    "<strong>Boxplot</strong> is a good way to visualize categorical variables."
   ]
  },
  {
   "cell_type": "code",
   "execution_count": 11,
   "metadata": {},
   "outputs": [
    {
     "data": {
      "text/plain": [
       "<AxesSubplot:xlabel='body-style', ylabel='price'>"
      ]
     },
     "execution_count": 11,
     "metadata": {},
     "output_type": "execute_result"
    },
    {
     "data": {
      "image/png": "[encoded data removed]",
      "text/plain": [
       "<Figure size 432x288 with 1 Axes>"
      ]
     },
     "metadata": {
      "needs_background": "light"
     },
     "output_type": "display_data"
    }
   ],
   "source": [
    "sns.boxplot(x=\"body-style\", y=\"price\", data=df)"
   ]
  },
  {
   "cell_type": "markdown",
   "metadata": {},
   "source": [
    "We can see the different distributions have significant overlaps, hence 'body-style' would not be a good predictor of price. Next,"
   ]
  },
  {
   "cell_type": "code",
   "execution_count": 12,
   "metadata": {},
   "outputs": [
    {
     "data": {
      "text/plain": [
       "<AxesSubplot:xlabel='engine-location', ylabel='price'>"
      ]
     },
     "execution_count": 12,
     "metadata": {},
     "output_type": "execute_result"
    },
    {
     "data": {
      "image/png": "[encoded data removed]",
      "text/plain": [
       "<Figure size 432x288 with 1 Axes>"
      ]
     },
     "metadata": {
      "needs_background": "light"
     },
     "output_type": "display_data"
    }
   ],
   "source": [
    "sns.boxplot(x=\"engine-location\", y=\"price\", data=df)"
   ]
  },
  {
   "cell_type": "markdown",
   "metadata": {},
   "source": [
    "The above distributions are distinct enough to say 'engine-location' is a potential good predictor of price. Next,"
   ]
  },
  {
   "cell_type": "code",
   "execution_count": 13,
   "metadata": {},
   "outputs": [
    {
     "data": {
      "text/plain": [
       "<AxesSubplot:xlabel='drive-wheels', ylabel='price'>"
      ]
     },
     "execution_count": 13,
     "metadata": {},
     "output_type": "execute_result"
    },
    {
     "data": {
      "image/png": "[encoded data removed]",
      "text/plain": [
       "<Figure size 432x288 with 1 Axes>"
      ]
     },
     "metadata": {
      "needs_background": "light"
     },
     "output_type": "display_data"
    }
   ],
   "source": [
    "sns.boxplot(x=\"drive-wheels\", y=\"price\", data=df)"
   ]
  },
  {
   "cell_type": "markdown",
   "metadata": {},
   "source": [
    "The above distributions show both overlaps and distinctions, so 'drive-wheels' could potentially be a predictor of price."
   ]
  },
  {
   "cell_type": "markdown",
   "metadata": {},
   "source": [
    "<h3>Descriptive Statistical Analysis</h3>"
   ]
  },
  {
   "cell_type": "markdown",
   "metadata": {},
   "source": [
    "The default 'describe' function computes basic statistics for all continuous numerical variables and skips the 'NaN' and object values."
   ]
  },
  {
   "cell_type": "code",
   "execution_count": 14,
   "metadata": {},
   "outputs": [
    {
     "data": {
      "text/html": [
       "<div>\n",
       "<style scoped>\n",
       "    .dataframe tbody tr th:only-of-type {\n",
       "        vertical-align: middle;\n",
       "    }\n",
       "\n",
       "    .dataframe tbody tr th {\n",
       "        vertical-align: top;\n",
       "    }\n",
       "\n",
       "    .dataframe thead th {\n",
       "        text-align: right;\n",
       "    }\n",
       "</style>\n",
       "<table border=\"1\" class=\"dataframe\">\n",
       "  <thead>\n",
       "    <tr style=\"text-align: right;\">\n",
       "      <th></th>\n",
       "      <th>symboling</th>\n",
       "      <th>normalized-losses</th>\n",
       "      <th>wheel-base</th>\n",
       "      <th>length</th>\n",
       "      <th>width</th>\n",
       "      <th>height</th>\n",
       "      <th>curb-weight</th>\n",
       "      <th>engine-size</th>\n",
       "      <th>bore</th>\n",
       "      <th>stroke</th>\n",
       "      <th>compression-ratio</th>\n",
       "      <th>horsepower</th>\n",
       "      <th>peak-rpm</th>\n",
       "      <th>city-L/100km</th>\n",
       "      <th>highway-L/100km</th>\n",
       "      <th>price</th>\n",
       "      <th>fueltyp-diesel(0)/gas(1)</th>\n",
       "      <th>aspiration-std(1)/turbo(0)</th>\n",
       "    </tr>\n",
       "  </thead>\n",
       "  <tbody>\n",
       "    <tr>\n",
       "      <th>count</th>\n",
       "      <td>201.000000</td>\n",
       "      <td>201.00000</td>\n",
       "      <td>201.000000</td>\n",
       "      <td>201.000000</td>\n",
       "      <td>201.000000</td>\n",
       "      <td>201.000000</td>\n",
       "      <td>201.000000</td>\n",
       "      <td>201.000000</td>\n",
       "      <td>201.000000</td>\n",
       "      <td>201.000000</td>\n",
       "      <td>201.000000</td>\n",
       "      <td>201.000000</td>\n",
       "      <td>201.000000</td>\n",
       "      <td>201.000000</td>\n",
       "      <td>201.000000</td>\n",
       "      <td>201.000000</td>\n",
       "      <td>201.000000</td>\n",
       "      <td>201.000000</td>\n",
       "    </tr>\n",
       "    <tr>\n",
       "      <th>mean</th>\n",
       "      <td>0.840796</td>\n",
       "      <td>122.00000</td>\n",
       "      <td>98.797015</td>\n",
       "      <td>-0.000746</td>\n",
       "      <td>0.000050</td>\n",
       "      <td>0.000299</td>\n",
       "      <td>2555.666667</td>\n",
       "      <td>126.875622</td>\n",
       "      <td>3.330692</td>\n",
       "      <td>3.256874</td>\n",
       "      <td>10.164279</td>\n",
       "      <td>103.405534</td>\n",
       "      <td>5117.665368</td>\n",
       "      <td>9.943582</td>\n",
       "      <td>8.043433</td>\n",
       "      <td>13207.129353</td>\n",
       "      <td>0.099502</td>\n",
       "      <td>0.820896</td>\n",
       "    </tr>\n",
       "    <tr>\n",
       "      <th>std</th>\n",
       "      <td>1.254802</td>\n",
       "      <td>31.99625</td>\n",
       "      <td>6.066366</td>\n",
       "      <td>0.998964</td>\n",
       "      <td>0.999348</td>\n",
       "      <td>0.999911</td>\n",
       "      <td>517.296727</td>\n",
       "      <td>41.546834</td>\n",
       "      <td>0.268072</td>\n",
       "      <td>0.316048</td>\n",
       "      <td>4.004965</td>\n",
       "      <td>37.365700</td>\n",
       "      <td>478.113805</td>\n",
       "      <td>2.535594</td>\n",
       "      <td>1.841293</td>\n",
       "      <td>7947.066342</td>\n",
       "      <td>0.300083</td>\n",
       "      <td>0.384397</td>\n",
       "    </tr>\n",
       "    <tr>\n",
       "      <th>min</th>\n",
       "      <td>-2.000000</td>\n",
       "      <td>65.00000</td>\n",
       "      <td>86.600000</td>\n",
       "      <td>-2.690000</td>\n",
       "      <td>-2.660000</td>\n",
       "      <td>-2.440000</td>\n",
       "      <td>1488.000000</td>\n",
       "      <td>61.000000</td>\n",
       "      <td>2.540000</td>\n",
       "      <td>2.070000</td>\n",
       "      <td>7.000000</td>\n",
       "      <td>48.000000</td>\n",
       "      <td>4150.000000</td>\n",
       "      <td>4.800000</td>\n",
       "      <td>4.350000</td>\n",
       "      <td>5118.000000</td>\n",
       "      <td>0.000000</td>\n",
       "      <td>0.000000</td>\n",
       "    </tr>\n",
       "    <tr>\n",
       "      <th>25%</th>\n",
       "      <td>0.000000</td>\n",
       "      <td>101.00000</td>\n",
       "      <td>94.500000</td>\n",
       "      <td>-0.600000</td>\n",
       "      <td>-0.850000</td>\n",
       "      <td>-0.720000</td>\n",
       "      <td>2169.000000</td>\n",
       "      <td>98.000000</td>\n",
       "      <td>3.150000</td>\n",
       "      <td>3.110000</td>\n",
       "      <td>8.600000</td>\n",
       "      <td>70.000000</td>\n",
       "      <td>4800.000000</td>\n",
       "      <td>7.830000</td>\n",
       "      <td>6.910000</td>\n",
       "      <td>7775.000000</td>\n",
       "      <td>0.000000</td>\n",
       "      <td>1.000000</td>\n",
       "    </tr>\n",
       "    <tr>\n",
       "      <th>50%</th>\n",
       "      <td>1.000000</td>\n",
       "      <td>122.00000</td>\n",
       "      <td>97.000000</td>\n",
       "      <td>-0.080000</td>\n",
       "      <td>-0.190000</td>\n",
       "      <td>0.140000</td>\n",
       "      <td>2414.000000</td>\n",
       "      <td>120.000000</td>\n",
       "      <td>3.310000</td>\n",
       "      <td>3.290000</td>\n",
       "      <td>9.000000</td>\n",
       "      <td>95.000000</td>\n",
       "      <td>5125.369458</td>\n",
       "      <td>9.790000</td>\n",
       "      <td>7.830000</td>\n",
       "      <td>10295.000000</td>\n",
       "      <td>0.000000</td>\n",
       "      <td>1.000000</td>\n",
       "    </tr>\n",
       "    <tr>\n",
       "      <th>75%</th>\n",
       "      <td>2.000000</td>\n",
       "      <td>137.00000</td>\n",
       "      <td>102.400000</td>\n",
       "      <td>0.750000</td>\n",
       "      <td>0.340000</td>\n",
       "      <td>0.710000</td>\n",
       "      <td>2926.000000</td>\n",
       "      <td>141.000000</td>\n",
       "      <td>3.580000</td>\n",
       "      <td>3.410000</td>\n",
       "      <td>9.400000</td>\n",
       "      <td>116.000000</td>\n",
       "      <td>5500.000000</td>\n",
       "      <td>12.370000</td>\n",
       "      <td>9.400000</td>\n",
       "      <td>16500.000000</td>\n",
       "      <td>0.000000</td>\n",
       "      <td>1.000000</td>\n",
       "    </tr>\n",
       "    <tr>\n",
       "      <th>max</th>\n",
       "      <td>3.000000</td>\n",
       "      <td>256.00000</td>\n",
       "      <td>120.900000</td>\n",
       "      <td>2.750000</td>\n",
       "      <td>2.910000</td>\n",
       "      <td>2.460000</td>\n",
       "      <td>4066.000000</td>\n",
       "      <td>326.000000</td>\n",
       "      <td>3.940000</td>\n",
       "      <td>4.170000</td>\n",
       "      <td>23.000000</td>\n",
       "      <td>262.000000</td>\n",
       "      <td>6600.000000</td>\n",
       "      <td>18.080000</td>\n",
       "      <td>14.690000</td>\n",
       "      <td>45400.000000</td>\n",
       "      <td>1.000000</td>\n",
       "      <td>1.000000</td>\n",
       "    </tr>\n",
       "  </tbody>\n",
       "</table>\n",
       "</div>"
      ],
      "text/plain": [
       "        symboling  normalized-losses  wheel-base      length       width  \\\n",
       "count  201.000000          201.00000  201.000000  201.000000  201.000000   \n",
       "mean     0.840796          122.00000   98.797015   -0.000746    0.000050   \n",
       "std      1.254802           31.99625    6.066366    0.998964    0.999348   \n",
       "min     -2.000000           65.00000   86.600000   -2.690000   -2.660000   \n",
       "25%      0.000000          101.00000   94.500000   -0.600000   -0.850000   \n",
       "50%      1.000000          122.00000   97.000000   -0.080000   -0.190000   \n",
       "75%      2.000000          137.00000  102.400000    0.750000    0.340000   \n",
       "max      3.000000          256.00000  120.900000    2.750000    2.910000   \n",
       "\n",
       "           height  curb-weight  engine-size        bore      stroke  \\\n",
       "count  201.000000   201.000000   201.000000  201.000000  201.000000   \n",
       "mean     0.000299  2555.666667   126.875622    3.330692    3.256874   \n",
       "std      0.999911   517.296727    41.546834    0.268072    0.316048   \n",
       "min     -2.440000  1488.000000    61.000000    2.540000    2.070000   \n",
       "25%     -0.720000  2169.000000    98.000000    3.150000    3.110000   \n",
       "50%      0.140000  2414.000000   120.000000    3.310000    3.290000   \n",
       "75%      0.710000  2926.000000   141.000000    3.580000    3.410000   \n",
       "max      2.460000  4066.000000   326.000000    3.940000    4.170000   \n",
       "\n",
       "       compression-ratio  horsepower     peak-rpm  city-L/100km  \\\n",
       "count         201.000000  201.000000   201.000000    201.000000   \n",
       "mean           10.164279  103.405534  5117.665368      9.943582   \n",
       "std             4.004965   37.365700   478.113805      2.535594   \n",
       "min             7.000000   48.000000  4150.000000      4.800000   \n",
       "25%             8.600000   70.000000  4800.000000      7.830000   \n",
       "50%             9.000000   95.000000  5125.369458      9.790000   \n",
       "75%             9.400000  116.000000  5500.000000     12.370000   \n",
       "max            23.000000  262.000000  6600.000000     18.080000   \n",
       "\n",
       "       highway-L/100km         price  fueltyp-diesel(0)/gas(1)  \\\n",
       "count       201.000000    201.000000                201.000000   \n",
       "mean          8.043433  13207.129353                  0.099502   \n",
       "std           1.841293   7947.066342                  0.300083   \n",
       "min           4.350000   5118.000000                  0.000000   \n",
       "25%           6.910000   7775.000000                  0.000000   \n",
       "50%           7.830000  10295.000000                  0.000000   \n",
       "75%           9.400000  16500.000000                  0.000000   \n",
       "max          14.690000  45400.000000                  1.000000   \n",
       "\n",
       "       aspiration-std(1)/turbo(0)  \n",
       "count                  201.000000  \n",
       "mean                     0.820896  \n",
       "std                      0.384397  \n",
       "min                      0.000000  \n",
       "25%                      1.000000  \n",
       "50%                      1.000000  \n",
       "75%                      1.000000  \n",
       "max                      1.000000  "
      ]
     },
     "execution_count": 14,
     "metadata": {},
     "output_type": "execute_result"
    }
   ],
   "source": [
    "df.describe()"
   ]
  },
  {
   "cell_type": "markdown",
   "metadata": {},
   "source": [
    "The 'describe' function can be applied on the object values as below."
   ]
  },
  {
   "cell_type": "code",
   "execution_count": 15,
   "metadata": {},
   "outputs": [
    {
     "data": {
      "text/html": [
       "<div>\n",
       "<style scoped>\n",
       "    .dataframe tbody tr th:only-of-type {\n",
       "        vertical-align: middle;\n",
       "    }\n",
       "\n",
       "    .dataframe tbody tr th {\n",
       "        vertical-align: top;\n",
       "    }\n",
       "\n",
       "    .dataframe thead th {\n",
       "        text-align: right;\n",
       "    }\n",
       "</style>\n",
       "<table border=\"1\" class=\"dataframe\">\n",
       "  <thead>\n",
       "    <tr style=\"text-align: right;\">\n",
       "      <th></th>\n",
       "      <th>make</th>\n",
       "      <th>num-of-doors</th>\n",
       "      <th>body-style</th>\n",
       "      <th>drive-wheels</th>\n",
       "      <th>engine-location</th>\n",
       "      <th>engine-type</th>\n",
       "      <th>num-of-cylinders</th>\n",
       "      <th>fuel-system</th>\n",
       "      <th>hrspwr-binned</th>\n",
       "    </tr>\n",
       "  </thead>\n",
       "  <tbody>\n",
       "    <tr>\n",
       "      <th>count</th>\n",
       "      <td>201</td>\n",
       "      <td>201</td>\n",
       "      <td>201</td>\n",
       "      <td>201</td>\n",
       "      <td>201</td>\n",
       "      <td>201</td>\n",
       "      <td>201</td>\n",
       "      <td>201</td>\n",
       "      <td>201</td>\n",
       "    </tr>\n",
       "    <tr>\n",
       "      <th>unique</th>\n",
       "      <td>22</td>\n",
       "      <td>2</td>\n",
       "      <td>5</td>\n",
       "      <td>3</td>\n",
       "      <td>2</td>\n",
       "      <td>6</td>\n",
       "      <td>7</td>\n",
       "      <td>8</td>\n",
       "      <td>3</td>\n",
       "    </tr>\n",
       "    <tr>\n",
       "      <th>top</th>\n",
       "      <td>toyota</td>\n",
       "      <td>four</td>\n",
       "      <td>sedan</td>\n",
       "      <td>fwd</td>\n",
       "      <td>front</td>\n",
       "      <td>ohc</td>\n",
       "      <td>four</td>\n",
       "      <td>mpfi</td>\n",
       "      <td>Low</td>\n",
       "    </tr>\n",
       "    <tr>\n",
       "      <th>freq</th>\n",
       "      <td>32</td>\n",
       "      <td>115</td>\n",
       "      <td>94</td>\n",
       "      <td>118</td>\n",
       "      <td>198</td>\n",
       "      <td>145</td>\n",
       "      <td>157</td>\n",
       "      <td>92</td>\n",
       "      <td>153</td>\n",
       "    </tr>\n",
       "  </tbody>\n",
       "</table>\n",
       "</div>"
      ],
      "text/plain": [
       "          make num-of-doors body-style drive-wheels engine-location  \\\n",
       "count      201          201        201          201             201   \n",
       "unique      22            2          5            3               2   \n",
       "top     toyota         four      sedan          fwd           front   \n",
       "freq        32          115         94          118             198   \n",
       "\n",
       "       engine-type num-of-cylinders fuel-system hrspwr-binned  \n",
       "count          201              201         201           201  \n",
       "unique           6                7           8             3  \n",
       "top            ohc             four        mpfi           Low  \n",
       "freq           145              157          92           153  "
      ]
     },
     "execution_count": 15,
     "metadata": {},
     "output_type": "execute_result"
    }
   ],
   "source": [
    "df.describe(include=['object'])"
   ]
  },
  {
   "cell_type": "markdown",
   "metadata": {},
   "source": [
    "To get basic statistics of all types of variables."
   ]
  },
  {
   "cell_type": "code",
   "execution_count": 16,
   "metadata": {},
   "outputs": [
    {
     "data": {
      "text/html": [
       "<div>\n",
       "<style scoped>\n",
       "    .dataframe tbody tr th:only-of-type {\n",
       "        vertical-align: middle;\n",
       "    }\n",
       "\n",
       "    .dataframe tbody tr th {\n",
       "        vertical-align: top;\n",
       "    }\n",
       "\n",
       "    .dataframe thead th {\n",
       "        text-align: right;\n",
       "    }\n",
       "</style>\n",
       "<table border=\"1\" class=\"dataframe\">\n",
       "  <thead>\n",
       "    <tr style=\"text-align: right;\">\n",
       "      <th></th>\n",
       "      <th>symboling</th>\n",
       "      <th>normalized-losses</th>\n",
       "      <th>make</th>\n",
       "      <th>num-of-doors</th>\n",
       "      <th>body-style</th>\n",
       "      <th>drive-wheels</th>\n",
       "      <th>engine-location</th>\n",
       "      <th>wheel-base</th>\n",
       "      <th>length</th>\n",
       "      <th>width</th>\n",
       "      <th>...</th>\n",
       "      <th>stroke</th>\n",
       "      <th>compression-ratio</th>\n",
       "      <th>horsepower</th>\n",
       "      <th>peak-rpm</th>\n",
       "      <th>city-L/100km</th>\n",
       "      <th>highway-L/100km</th>\n",
       "      <th>price</th>\n",
       "      <th>hrspwr-binned</th>\n",
       "      <th>fueltyp-diesel(0)/gas(1)</th>\n",
       "      <th>aspiration-std(1)/turbo(0)</th>\n",
       "    </tr>\n",
       "  </thead>\n",
       "  <tbody>\n",
       "    <tr>\n",
       "      <th>count</th>\n",
       "      <td>201.000000</td>\n",
       "      <td>201.00000</td>\n",
       "      <td>201</td>\n",
       "      <td>201</td>\n",
       "      <td>201</td>\n",
       "      <td>201</td>\n",
       "      <td>201</td>\n",
       "      <td>201.000000</td>\n",
       "      <td>201.000000</td>\n",
       "      <td>201.000000</td>\n",
       "      <td>...</td>\n",
       "      <td>201.000000</td>\n",
       "      <td>201.000000</td>\n",
       "      <td>201.000000</td>\n",
       "      <td>201.000000</td>\n",
       "      <td>201.000000</td>\n",
       "      <td>201.000000</td>\n",
       "      <td>201.000000</td>\n",
       "      <td>201</td>\n",
       "      <td>201.000000</td>\n",
       "      <td>201.000000</td>\n",
       "    </tr>\n",
       "    <tr>\n",
       "      <th>unique</th>\n",
       "      <td>NaN</td>\n",
       "      <td>NaN</td>\n",
       "      <td>22</td>\n",
       "      <td>2</td>\n",
       "      <td>5</td>\n",
       "      <td>3</td>\n",
       "      <td>2</td>\n",
       "      <td>NaN</td>\n",
       "      <td>NaN</td>\n",
       "      <td>NaN</td>\n",
       "      <td>...</td>\n",
       "      <td>NaN</td>\n",
       "      <td>NaN</td>\n",
       "      <td>NaN</td>\n",
       "      <td>NaN</td>\n",
       "      <td>NaN</td>\n",
       "      <td>NaN</td>\n",
       "      <td>NaN</td>\n",
       "      <td>3</td>\n",
       "      <td>NaN</td>\n",
       "      <td>NaN</td>\n",
       "    </tr>\n",
       "    <tr>\n",
       "      <th>top</th>\n",
       "      <td>NaN</td>\n",
       "      <td>NaN</td>\n",
       "      <td>toyota</td>\n",
       "      <td>four</td>\n",
       "      <td>sedan</td>\n",
       "      <td>fwd</td>\n",
       "      <td>front</td>\n",
       "      <td>NaN</td>\n",
       "      <td>NaN</td>\n",
       "      <td>NaN</td>\n",
       "      <td>...</td>\n",
       "      <td>NaN</td>\n",
       "      <td>NaN</td>\n",
       "      <td>NaN</td>\n",
       "      <td>NaN</td>\n",
       "      <td>NaN</td>\n",
       "      <td>NaN</td>\n",
       "      <td>NaN</td>\n",
       "      <td>Low</td>\n",
       "      <td>NaN</td>\n",
       "      <td>NaN</td>\n",
       "    </tr>\n",
       "    <tr>\n",
       "      <th>freq</th>\n",
       "      <td>NaN</td>\n",
       "      <td>NaN</td>\n",
       "      <td>32</td>\n",
       "      <td>115</td>\n",
       "      <td>94</td>\n",
       "      <td>118</td>\n",
       "      <td>198</td>\n",
       "      <td>NaN</td>\n",
       "      <td>NaN</td>\n",
       "      <td>NaN</td>\n",
       "      <td>...</td>\n",
       "      <td>NaN</td>\n",
       "      <td>NaN</td>\n",
       "      <td>NaN</td>\n",
       "      <td>NaN</td>\n",
       "      <td>NaN</td>\n",
       "      <td>NaN</td>\n",
       "      <td>NaN</td>\n",
       "      <td>153</td>\n",
       "      <td>NaN</td>\n",
       "      <td>NaN</td>\n",
       "    </tr>\n",
       "    <tr>\n",
       "      <th>mean</th>\n",
       "      <td>0.840796</td>\n",
       "      <td>122.00000</td>\n",
       "      <td>NaN</td>\n",
       "      <td>NaN</td>\n",
       "      <td>NaN</td>\n",
       "      <td>NaN</td>\n",
       "      <td>NaN</td>\n",
       "      <td>98.797015</td>\n",
       "      <td>-0.000746</td>\n",
       "      <td>0.000050</td>\n",
       "      <td>...</td>\n",
       "      <td>3.256874</td>\n",
       "      <td>10.164279</td>\n",
       "      <td>103.405534</td>\n",
       "      <td>5117.665368</td>\n",
       "      <td>9.943582</td>\n",
       "      <td>8.043433</td>\n",
       "      <td>13207.129353</td>\n",
       "      <td>NaN</td>\n",
       "      <td>0.099502</td>\n",
       "      <td>0.820896</td>\n",
       "    </tr>\n",
       "    <tr>\n",
       "      <th>std</th>\n",
       "      <td>1.254802</td>\n",
       "      <td>31.99625</td>\n",
       "      <td>NaN</td>\n",
       "      <td>NaN</td>\n",
       "      <td>NaN</td>\n",
       "      <td>NaN</td>\n",
       "      <td>NaN</td>\n",
       "      <td>6.066366</td>\n",
       "      <td>0.998964</td>\n",
       "      <td>0.999348</td>\n",
       "      <td>...</td>\n",
       "      <td>0.316048</td>\n",
       "      <td>4.004965</td>\n",
       "      <td>37.365700</td>\n",
       "      <td>478.113805</td>\n",
       "      <td>2.535594</td>\n",
       "      <td>1.841293</td>\n",
       "      <td>7947.066342</td>\n",
       "      <td>NaN</td>\n",
       "      <td>0.300083</td>\n",
       "      <td>0.384397</td>\n",
       "    </tr>\n",
       "    <tr>\n",
       "      <th>min</th>\n",
       "      <td>-2.000000</td>\n",
       "      <td>65.00000</td>\n",
       "      <td>NaN</td>\n",
       "      <td>NaN</td>\n",
       "      <td>NaN</td>\n",
       "      <td>NaN</td>\n",
       "      <td>NaN</td>\n",
       "      <td>86.600000</td>\n",
       "      <td>-2.690000</td>\n",
       "      <td>-2.660000</td>\n",
       "      <td>...</td>\n",
       "      <td>2.070000</td>\n",
       "      <td>7.000000</td>\n",
       "      <td>48.000000</td>\n",
       "      <td>4150.000000</td>\n",
       "      <td>4.800000</td>\n",
       "      <td>4.350000</td>\n",
       "      <td>5118.000000</td>\n",
       "      <td>NaN</td>\n",
       "      <td>0.000000</td>\n",
       "      <td>0.000000</td>\n",
       "    </tr>\n",
       "    <tr>\n",
       "      <th>25%</th>\n",
       "      <td>0.000000</td>\n",
       "      <td>101.00000</td>\n",
       "      <td>NaN</td>\n",
       "      <td>NaN</td>\n",
       "      <td>NaN</td>\n",
       "      <td>NaN</td>\n",
       "      <td>NaN</td>\n",
       "      <td>94.500000</td>\n",
       "      <td>-0.600000</td>\n",
       "      <td>-0.850000</td>\n",
       "      <td>...</td>\n",
       "      <td>3.110000</td>\n",
       "      <td>8.600000</td>\n",
       "      <td>70.000000</td>\n",
       "      <td>4800.000000</td>\n",
       "      <td>7.830000</td>\n",
       "      <td>6.910000</td>\n",
       "      <td>7775.000000</td>\n",
       "      <td>NaN</td>\n",
       "      <td>0.000000</td>\n",
       "      <td>1.000000</td>\n",
       "    </tr>\n",
       "    <tr>\n",
       "      <th>50%</th>\n",
       "      <td>1.000000</td>\n",
       "      <td>122.00000</td>\n",
       "      <td>NaN</td>\n",
       "      <td>NaN</td>\n",
       "      <td>NaN</td>\n",
       "      <td>NaN</td>\n",
       "      <td>NaN</td>\n",
       "      <td>97.000000</td>\n",
       "      <td>-0.080000</td>\n",
       "      <td>-0.190000</td>\n",
       "      <td>...</td>\n",
       "      <td>3.290000</td>\n",
       "      <td>9.000000</td>\n",
       "      <td>95.000000</td>\n",
       "      <td>5125.369458</td>\n",
       "      <td>9.790000</td>\n",
       "      <td>7.830000</td>\n",
       "      <td>10295.000000</td>\n",
       "      <td>NaN</td>\n",
       "      <td>0.000000</td>\n",
       "      <td>1.000000</td>\n",
       "    </tr>\n",
       "    <tr>\n",
       "      <th>75%</th>\n",
       "      <td>2.000000</td>\n",
       "      <td>137.00000</td>\n",
       "      <td>NaN</td>\n",
       "      <td>NaN</td>\n",
       "      <td>NaN</td>\n",
       "      <td>NaN</td>\n",
       "      <td>NaN</td>\n",
       "      <td>102.400000</td>\n",
       "      <td>0.750000</td>\n",
       "      <td>0.340000</td>\n",
       "      <td>...</td>\n",
       "      <td>3.410000</td>\n",
       "      <td>9.400000</td>\n",
       "      <td>116.000000</td>\n",
       "      <td>5500.000000</td>\n",
       "      <td>12.370000</td>\n",
       "      <td>9.400000</td>\n",
       "      <td>16500.000000</td>\n",
       "      <td>NaN</td>\n",
       "      <td>0.000000</td>\n",
       "      <td>1.000000</td>\n",
       "    </tr>\n",
       "    <tr>\n",
       "      <th>max</th>\n",
       "      <td>3.000000</td>\n",
       "      <td>256.00000</td>\n",
       "      <td>NaN</td>\n",
       "      <td>NaN</td>\n",
       "      <td>NaN</td>\n",
       "      <td>NaN</td>\n",
       "      <td>NaN</td>\n",
       "      <td>120.900000</td>\n",
       "      <td>2.750000</td>\n",
       "      <td>2.910000</td>\n",
       "      <td>...</td>\n",
       "      <td>4.170000</td>\n",
       "      <td>23.000000</td>\n",
       "      <td>262.000000</td>\n",
       "      <td>6600.000000</td>\n",
       "      <td>18.080000</td>\n",
       "      <td>14.690000</td>\n",
       "      <td>45400.000000</td>\n",
       "      <td>NaN</td>\n",
       "      <td>1.000000</td>\n",
       "      <td>1.000000</td>\n",
       "    </tr>\n",
       "  </tbody>\n",
       "</table>\n",
       "<p>11 rows × 27 columns</p>\n",
       "</div>"
      ],
      "text/plain": [
       "         symboling  normalized-losses    make num-of-doors body-style  \\\n",
       "count   201.000000          201.00000     201          201        201   \n",
       "unique         NaN                NaN      22            2          5   \n",
       "top            NaN                NaN  toyota         four      sedan   \n",
       "freq           NaN                NaN      32          115         94   \n",
       "mean      0.840796          122.00000     NaN          NaN        NaN   \n",
       "std       1.254802           31.99625     NaN          NaN        NaN   \n",
       "min      -2.000000           65.00000     NaN          NaN        NaN   \n",
       "25%       0.000000          101.00000     NaN          NaN        NaN   \n",
       "50%       1.000000          122.00000     NaN          NaN        NaN   \n",
       "75%       2.000000          137.00000     NaN          NaN        NaN   \n",
       "max       3.000000          256.00000     NaN          NaN        NaN   \n",
       "\n",
       "       drive-wheels engine-location  wheel-base      length       width  ...  \\\n",
       "count           201             201  201.000000  201.000000  201.000000  ...   \n",
       "unique            3               2         NaN         NaN         NaN  ...   \n",
       "top             fwd           front         NaN         NaN         NaN  ...   \n",
       "freq            118             198         NaN         NaN         NaN  ...   \n",
       "mean            NaN             NaN   98.797015   -0.000746    0.000050  ...   \n",
       "std             NaN             NaN    6.066366    0.998964    0.999348  ...   \n",
       "min             NaN             NaN   86.600000   -2.690000   -2.660000  ...   \n",
       "25%             NaN             NaN   94.500000   -0.600000   -0.850000  ...   \n",
       "50%             NaN             NaN   97.000000   -0.080000   -0.190000  ...   \n",
       "75%             NaN             NaN  102.400000    0.750000    0.340000  ...   \n",
       "max             NaN             NaN  120.900000    2.750000    2.910000  ...   \n",
       "\n",
       "            stroke  compression-ratio  horsepower     peak-rpm  city-L/100km  \\\n",
       "count   201.000000         201.000000  201.000000   201.000000    201.000000   \n",
       "unique         NaN                NaN         NaN          NaN           NaN   \n",
       "top            NaN                NaN         NaN          NaN           NaN   \n",
       "freq           NaN                NaN         NaN          NaN           NaN   \n",
       "mean      3.256874          10.164279  103.405534  5117.665368      9.943582   \n",
       "std       0.316048           4.004965   37.365700   478.113805      2.535594   \n",
       "min       2.070000           7.000000   48.000000  4150.000000      4.800000   \n",
       "25%       3.110000           8.600000   70.000000  4800.000000      7.830000   \n",
       "50%       3.290000           9.000000   95.000000  5125.369458      9.790000   \n",
       "75%       3.410000           9.400000  116.000000  5500.000000     12.370000   \n",
       "max       4.170000          23.000000  262.000000  6600.000000     18.080000   \n",
       "\n",
       "       highway-L/100km         price  hrspwr-binned  fueltyp-diesel(0)/gas(1)  \\\n",
       "count       201.000000    201.000000            201                201.000000   \n",
       "unique             NaN           NaN              3                       NaN   \n",
       "top                NaN           NaN            Low                       NaN   \n",
       "freq               NaN           NaN            153                       NaN   \n",
       "mean          8.043433  13207.129353            NaN                  0.099502   \n",
       "std           1.841293   7947.066342            NaN                  0.300083   \n",
       "min           4.350000   5118.000000            NaN                  0.000000   \n",
       "25%           6.910000   7775.000000            NaN                  0.000000   \n",
       "50%           7.830000  10295.000000            NaN                  0.000000   \n",
       "75%           9.400000  16500.000000            NaN                  0.000000   \n",
       "max          14.690000  45400.000000            NaN                  1.000000   \n",
       "\n",
       "        aspiration-std(1)/turbo(0)  \n",
       "count                   201.000000  \n",
       "unique                         NaN  \n",
       "top                            NaN  \n",
       "freq                           NaN  \n",
       "mean                      0.820896  \n",
       "std                       0.384397  \n",
       "min                       0.000000  \n",
       "25%                       1.000000  \n",
       "50%                       1.000000  \n",
       "75%                       1.000000  \n",
       "max                       1.000000  \n",
       "\n",
       "[11 rows x 27 columns]"
      ]
     },
     "execution_count": 16,
     "metadata": {},
     "output_type": "execute_result"
    }
   ],
   "source": [
    "df.describe(include=\"all\")"
   ]
  },
  {
   "cell_type": "markdown",
   "metadata": {},
   "source": [
    "<strong>Value-counts</strong> is a good way to understand how many units of each variable/attribute we have and the variable's potential of being a predictor. For example,"
   ]
  },
  {
   "cell_type": "code",
   "execution_count": 17,
   "metadata": {},
   "outputs": [
    {
     "data": {
      "text/plain": [
       "fwd    118\n",
       "rwd     75\n",
       "4wd      8\n",
       "Name: drive-wheels, dtype: int64"
      ]
     },
     "execution_count": 17,
     "metadata": {},
     "output_type": "execute_result"
    }
   ],
   "source": [
    "df[\"drive-wheels\"].value_counts()"
   ]
  },
  {
   "cell_type": "markdown",
   "metadata": {},
   "source": [
    "Apparently, we don't have enough data points for '4wd'. We can convert the series to a DF as follows,"
   ]
  },
  {
   "cell_type": "code",
   "execution_count": 18,
   "metadata": {},
   "outputs": [
    {
     "data": {
      "text/html": [
       "<div>\n",
       "<style scoped>\n",
       "    .dataframe tbody tr th:only-of-type {\n",
       "        vertical-align: middle;\n",
       "    }\n",
       "\n",
       "    .dataframe tbody tr th {\n",
       "        vertical-align: top;\n",
       "    }\n",
       "\n",
       "    .dataframe thead th {\n",
       "        text-align: right;\n",
       "    }\n",
       "</style>\n",
       "<table border=\"1\" class=\"dataframe\">\n",
       "  <thead>\n",
       "    <tr style=\"text-align: right;\">\n",
       "      <th></th>\n",
       "      <th>drive-wheels</th>\n",
       "    </tr>\n",
       "  </thead>\n",
       "  <tbody>\n",
       "    <tr>\n",
       "      <th>fwd</th>\n",
       "      <td>118</td>\n",
       "    </tr>\n",
       "    <tr>\n",
       "      <th>rwd</th>\n",
       "      <td>75</td>\n",
       "    </tr>\n",
       "    <tr>\n",
       "      <th>4wd</th>\n",
       "      <td>8</td>\n",
       "    </tr>\n",
       "  </tbody>\n",
       "</table>\n",
       "</div>"
      ],
      "text/plain": [
       "     drive-wheels\n",
       "fwd           118\n",
       "rwd            75\n",
       "4wd             8"
      ]
     },
     "execution_count": 18,
     "metadata": {},
     "output_type": "execute_result"
    }
   ],
   "source": [
    "dw_counts = df[\"drive-wheels\"].value_counts().to_frame()\n",
    "dw_counts"
   ]
  },
  {
   "cell_type": "markdown",
   "metadata": {},
   "source": [
    "Let's rename the column and index names."
   ]
  },
  {
   "cell_type": "code",
   "execution_count": 19,
   "metadata": {},
   "outputs": [
    {
     "data": {
      "text/html": [
       "<div>\n",
       "<style scoped>\n",
       "    .dataframe tbody tr th:only-of-type {\n",
       "        vertical-align: middle;\n",
       "    }\n",
       "\n",
       "    .dataframe tbody tr th {\n",
       "        vertical-align: top;\n",
       "    }\n",
       "\n",
       "    .dataframe thead th {\n",
       "        text-align: right;\n",
       "    }\n",
       "</style>\n",
       "<table border=\"1\" class=\"dataframe\">\n",
       "  <thead>\n",
       "    <tr style=\"text-align: right;\">\n",
       "      <th></th>\n",
       "      <th>value-counts</th>\n",
       "    </tr>\n",
       "    <tr>\n",
       "      <th>drive-wheels</th>\n",
       "      <th></th>\n",
       "    </tr>\n",
       "  </thead>\n",
       "  <tbody>\n",
       "    <tr>\n",
       "      <th>fwd</th>\n",
       "      <td>118</td>\n",
       "    </tr>\n",
       "    <tr>\n",
       "      <th>rwd</th>\n",
       "      <td>75</td>\n",
       "    </tr>\n",
       "    <tr>\n",
       "      <th>4wd</th>\n",
       "      <td>8</td>\n",
       "    </tr>\n",
       "  </tbody>\n",
       "</table>\n",
       "</div>"
      ],
      "text/plain": [
       "              value-counts\n",
       "drive-wheels              \n",
       "fwd                    118\n",
       "rwd                     75\n",
       "4wd                      8"
      ]
     },
     "execution_count": 19,
     "metadata": {},
     "output_type": "execute_result"
    }
   ],
   "source": [
    "dw_counts.rename(columns={\"drive-wheels\": \"value-counts\"}, inplace=True)\n",
    "dw_counts.index.name = \"drive-wheels\"\n",
    "dw_counts"
   ]
  },
  {
   "cell_type": "markdown",
   "metadata": {},
   "source": [
    "Repeating the above process for 'engine-location'."
   ]
  },
  {
   "cell_type": "code",
   "execution_count": 20,
   "metadata": {},
   "outputs": [
    {
     "data": {
      "text/html": [
       "<div>\n",
       "<style scoped>\n",
       "    .dataframe tbody tr th:only-of-type {\n",
       "        vertical-align: middle;\n",
       "    }\n",
       "\n",
       "    .dataframe tbody tr th {\n",
       "        vertical-align: top;\n",
       "    }\n",
       "\n",
       "    .dataframe thead th {\n",
       "        text-align: right;\n",
       "    }\n",
       "</style>\n",
       "<table border=\"1\" class=\"dataframe\">\n",
       "  <thead>\n",
       "    <tr style=\"text-align: right;\">\n",
       "      <th></th>\n",
       "      <th>value-counts</th>\n",
       "    </tr>\n",
       "    <tr>\n",
       "      <th>engine-location</th>\n",
       "      <th></th>\n",
       "    </tr>\n",
       "  </thead>\n",
       "  <tbody>\n",
       "    <tr>\n",
       "      <th>front</th>\n",
       "      <td>198</td>\n",
       "    </tr>\n",
       "    <tr>\n",
       "      <th>rear</th>\n",
       "      <td>3</td>\n",
       "    </tr>\n",
       "  </tbody>\n",
       "</table>\n",
       "</div>"
      ],
      "text/plain": [
       "                 value-counts\n",
       "engine-location              \n",
       "front                     198\n",
       "rear                        3"
      ]
     },
     "execution_count": 20,
     "metadata": {},
     "output_type": "execute_result"
    }
   ],
   "source": [
    "engine_loc_counts = df[\"engine-location\"].value_counts().to_frame()\n",
    "engine_loc_counts.rename(columns={\"engine-location\": \"value-counts\"}, inplace=True)\n",
    "engine_loc_counts.index.name = \"engine-location\"\n",
    "engine_loc_counts"
   ]
  },
  {
   "cell_type": "markdown",
   "metadata": {},
   "source": [
    "We don't have enough data points for 'rear' engine-location type i.e. skewed result. Hence, 'engine-location' would not be a good predictor variable for the target variable 'price'."
   ]
  },
  {
   "cell_type": "markdown",
   "metadata": {},
   "source": [
    "<h3>Grouping</h3>"
   ]
  },
  {
   "cell_type": "markdown",
   "metadata": {},
   "source": [
    "Data of a variable can be grouped by different categories of that variable. First, let's check the availabe categories of a variable,"
   ]
  },
  {
   "cell_type": "code",
   "execution_count": 21,
   "metadata": {},
   "outputs": [
    {
     "data": {
      "text/plain": [
       "array(['rwd', 'fwd', '4wd'], dtype=object)"
      ]
     },
     "execution_count": 21,
     "metadata": {},
     "output_type": "execute_result"
    }
   ],
   "source": [
    "df[\"drive-wheels\"].unique()"
   ]
  },
  {
   "cell_type": "markdown",
   "metadata": {},
   "source": [
    "The most expensive category can be found using 'groupby' method. First, let's create a DF of few selective columns."
   ]
  },
  {
   "cell_type": "code",
   "execution_count": 22,
   "metadata": {},
   "outputs": [
    {
     "data": {
      "text/html": [
       "<div>\n",
       "<style scoped>\n",
       "    .dataframe tbody tr th:only-of-type {\n",
       "        vertical-align: middle;\n",
       "    }\n",
       "\n",
       "    .dataframe tbody tr th {\n",
       "        vertical-align: top;\n",
       "    }\n",
       "\n",
       "    .dataframe thead th {\n",
       "        text-align: right;\n",
       "    }\n",
       "</style>\n",
       "<table border=\"1\" class=\"dataframe\">\n",
       "  <thead>\n",
       "    <tr style=\"text-align: right;\">\n",
       "      <th></th>\n",
       "      <th>drive-wheels</th>\n",
       "      <th>body-style</th>\n",
       "      <th>price</th>\n",
       "    </tr>\n",
       "  </thead>\n",
       "  <tbody>\n",
       "    <tr>\n",
       "      <th>0</th>\n",
       "      <td>rwd</td>\n",
       "      <td>convertible</td>\n",
       "      <td>13495.0</td>\n",
       "    </tr>\n",
       "    <tr>\n",
       "      <th>1</th>\n",
       "      <td>rwd</td>\n",
       "      <td>convertible</td>\n",
       "      <td>16500.0</td>\n",
       "    </tr>\n",
       "    <tr>\n",
       "      <th>2</th>\n",
       "      <td>rwd</td>\n",
       "      <td>hatchback</td>\n",
       "      <td>16500.0</td>\n",
       "    </tr>\n",
       "    <tr>\n",
       "      <th>3</th>\n",
       "      <td>fwd</td>\n",
       "      <td>sedan</td>\n",
       "      <td>13950.0</td>\n",
       "    </tr>\n",
       "    <tr>\n",
       "      <th>4</th>\n",
       "      <td>4wd</td>\n",
       "      <td>sedan</td>\n",
       "      <td>17450.0</td>\n",
       "    </tr>\n",
       "  </tbody>\n",
       "</table>\n",
       "</div>"
      ],
      "text/plain": [
       "  drive-wheels   body-style    price\n",
       "0          rwd  convertible  13495.0\n",
       "1          rwd  convertible  16500.0\n",
       "2          rwd    hatchback  16500.0\n",
       "3          fwd        sedan  13950.0\n",
       "4          4wd        sedan  17450.0"
      ]
     },
     "execution_count": 22,
     "metadata": {},
     "output_type": "execute_result"
    }
   ],
   "source": [
    "df_grp1 = df[[\"drive-wheels\", \"body-style\", \"price\"]]\n",
    "df_grp1.head()"
   ]
  },
  {
   "cell_type": "markdown",
   "metadata": {},
   "source": [
    "Now, the avg. price of each of the different categories of a column can be calculated as below,"
   ]
  },
  {
   "cell_type": "code",
   "execution_count": 23,
   "metadata": {},
   "outputs": [
    {
     "data": {
      "text/html": [
       "<div>\n",
       "<style scoped>\n",
       "    .dataframe tbody tr th:only-of-type {\n",
       "        vertical-align: middle;\n",
       "    }\n",
       "\n",
       "    .dataframe tbody tr th {\n",
       "        vertical-align: top;\n",
       "    }\n",
       "\n",
       "    .dataframe thead th {\n",
       "        text-align: right;\n",
       "    }\n",
       "</style>\n",
       "<table border=\"1\" class=\"dataframe\">\n",
       "  <thead>\n",
       "    <tr style=\"text-align: right;\">\n",
       "      <th></th>\n",
       "      <th>drive-wheels</th>\n",
       "      <th>price</th>\n",
       "    </tr>\n",
       "  </thead>\n",
       "  <tbody>\n",
       "    <tr>\n",
       "      <th>0</th>\n",
       "      <td>4wd</td>\n",
       "      <td>10241.000000</td>\n",
       "    </tr>\n",
       "    <tr>\n",
       "      <th>1</th>\n",
       "      <td>fwd</td>\n",
       "      <td>9244.779661</td>\n",
       "    </tr>\n",
       "    <tr>\n",
       "      <th>2</th>\n",
       "      <td>rwd</td>\n",
       "      <td>19757.613333</td>\n",
       "    </tr>\n",
       "  </tbody>\n",
       "</table>\n",
       "</div>"
      ],
      "text/plain": [
       "  drive-wheels         price\n",
       "0          4wd  10241.000000\n",
       "1          fwd   9244.779661\n",
       "2          rwd  19757.613333"
      ]
     },
     "execution_count": 23,
     "metadata": {},
     "output_type": "execute_result"
    }
   ],
   "source": [
    "df_grp_t1 = df_grp1.groupby([\"drive-wheels\"], as_index=False).mean()\n",
    "df_grp_t1"
   ]
  },
  {
   "cell_type": "markdown",
   "metadata": {},
   "source": [
    "Here, 'rwd' is, on avg., the most expensive category, and '4wd', 'fwd' are both approximately of same price. Data can also be grouped by several variables."
   ]
  },
  {
   "cell_type": "code",
   "execution_count": 24,
   "metadata": {},
   "outputs": [
    {
     "data": {
      "text/html": [
       "<div>\n",
       "<style scoped>\n",
       "    .dataframe tbody tr th:only-of-type {\n",
       "        vertical-align: middle;\n",
       "    }\n",
       "\n",
       "    .dataframe tbody tr th {\n",
       "        vertical-align: top;\n",
       "    }\n",
       "\n",
       "    .dataframe thead th {\n",
       "        text-align: right;\n",
       "    }\n",
       "</style>\n",
       "<table border=\"1\" class=\"dataframe\">\n",
       "  <thead>\n",
       "    <tr style=\"text-align: right;\">\n",
       "      <th></th>\n",
       "      <th>drive-wheels</th>\n",
       "      <th>body-style</th>\n",
       "      <th>price</th>\n",
       "    </tr>\n",
       "  </thead>\n",
       "  <tbody>\n",
       "    <tr>\n",
       "      <th>0</th>\n",
       "      <td>4wd</td>\n",
       "      <td>hatchback</td>\n",
       "      <td>7603.000000</td>\n",
       "    </tr>\n",
       "    <tr>\n",
       "      <th>1</th>\n",
       "      <td>4wd</td>\n",
       "      <td>sedan</td>\n",
       "      <td>12647.333333</td>\n",
       "    </tr>\n",
       "    <tr>\n",
       "      <th>2</th>\n",
       "      <td>4wd</td>\n",
       "      <td>wagon</td>\n",
       "      <td>9095.750000</td>\n",
       "    </tr>\n",
       "    <tr>\n",
       "      <th>3</th>\n",
       "      <td>fwd</td>\n",
       "      <td>convertible</td>\n",
       "      <td>11595.000000</td>\n",
       "    </tr>\n",
       "    <tr>\n",
       "      <th>4</th>\n",
       "      <td>fwd</td>\n",
       "      <td>hardtop</td>\n",
       "      <td>8249.000000</td>\n",
       "    </tr>\n",
       "    <tr>\n",
       "      <th>5</th>\n",
       "      <td>fwd</td>\n",
       "      <td>hatchback</td>\n",
       "      <td>8396.387755</td>\n",
       "    </tr>\n",
       "    <tr>\n",
       "      <th>6</th>\n",
       "      <td>fwd</td>\n",
       "      <td>sedan</td>\n",
       "      <td>9811.800000</td>\n",
       "    </tr>\n",
       "    <tr>\n",
       "      <th>7</th>\n",
       "      <td>fwd</td>\n",
       "      <td>wagon</td>\n",
       "      <td>9997.333333</td>\n",
       "    </tr>\n",
       "    <tr>\n",
       "      <th>8</th>\n",
       "      <td>rwd</td>\n",
       "      <td>convertible</td>\n",
       "      <td>23949.600000</td>\n",
       "    </tr>\n",
       "    <tr>\n",
       "      <th>9</th>\n",
       "      <td>rwd</td>\n",
       "      <td>hardtop</td>\n",
       "      <td>24202.714286</td>\n",
       "    </tr>\n",
       "    <tr>\n",
       "      <th>10</th>\n",
       "      <td>rwd</td>\n",
       "      <td>hatchback</td>\n",
       "      <td>14337.777778</td>\n",
       "    </tr>\n",
       "    <tr>\n",
       "      <th>11</th>\n",
       "      <td>rwd</td>\n",
       "      <td>sedan</td>\n",
       "      <td>21711.833333</td>\n",
       "    </tr>\n",
       "    <tr>\n",
       "      <th>12</th>\n",
       "      <td>rwd</td>\n",
       "      <td>wagon</td>\n",
       "      <td>16994.222222</td>\n",
       "    </tr>\n",
       "  </tbody>\n",
       "</table>\n",
       "</div>"
      ],
      "text/plain": [
       "   drive-wheels   body-style         price\n",
       "0           4wd    hatchback   7603.000000\n",
       "1           4wd        sedan  12647.333333\n",
       "2           4wd        wagon   9095.750000\n",
       "3           fwd  convertible  11595.000000\n",
       "4           fwd      hardtop   8249.000000\n",
       "5           fwd    hatchback   8396.387755\n",
       "6           fwd        sedan   9811.800000\n",
       "7           fwd        wagon   9997.333333\n",
       "8           rwd  convertible  23949.600000\n",
       "9           rwd      hardtop  24202.714286\n",
       "10          rwd    hatchback  14337.777778\n",
       "11          rwd        sedan  21711.833333\n",
       "12          rwd        wagon  16994.222222"
      ]
     },
     "execution_count": 24,
     "metadata": {},
     "output_type": "execute_result"
    }
   ],
   "source": [
    "df_grp_t2 = df_grp1.groupby([\"drive-wheels\", \"body-style\"], as_index=False).mean()\n",
    "df_grp_t2"
   ]
  },
  {
   "cell_type": "markdown",
   "metadata": {},
   "source": [
    "<strong>Pivot table</strong> can be used for the easier visualization of the data."
   ]
  },
  {
   "cell_type": "code",
   "execution_count": 25,
   "metadata": {},
   "outputs": [
    {
     "data": {
      "text/html": [
       "<div>\n",
       "<style scoped>\n",
       "    .dataframe tbody tr th:only-of-type {\n",
       "        vertical-align: middle;\n",
       "    }\n",
       "\n",
       "    .dataframe tbody tr th {\n",
       "        vertical-align: top;\n",
       "    }\n",
       "\n",
       "    .dataframe thead tr th {\n",
       "        text-align: left;\n",
       "    }\n",
       "\n",
       "    .dataframe thead tr:last-of-type th {\n",
       "        text-align: right;\n",
       "    }\n",
       "</style>\n",
       "<table border=\"1\" class=\"dataframe\">\n",
       "  <thead>\n",
       "    <tr>\n",
       "      <th></th>\n",
       "      <th colspan=\"5\" halign=\"left\">price</th>\n",
       "    </tr>\n",
       "    <tr>\n",
       "      <th>body-style</th>\n",
       "      <th>convertible</th>\n",
       "      <th>hardtop</th>\n",
       "      <th>hatchback</th>\n",
       "      <th>sedan</th>\n",
       "      <th>wagon</th>\n",
       "    </tr>\n",
       "    <tr>\n",
       "      <th>drive-wheels</th>\n",
       "      <th></th>\n",
       "      <th></th>\n",
       "      <th></th>\n",
       "      <th></th>\n",
       "      <th></th>\n",
       "    </tr>\n",
       "  </thead>\n",
       "  <tbody>\n",
       "    <tr>\n",
       "      <th>4wd</th>\n",
       "      <td>NaN</td>\n",
       "      <td>NaN</td>\n",
       "      <td>7603.000000</td>\n",
       "      <td>12647.333333</td>\n",
       "      <td>9095.750000</td>\n",
       "    </tr>\n",
       "    <tr>\n",
       "      <th>fwd</th>\n",
       "      <td>11595.0</td>\n",
       "      <td>8249.000000</td>\n",
       "      <td>8396.387755</td>\n",
       "      <td>9811.800000</td>\n",
       "      <td>9997.333333</td>\n",
       "    </tr>\n",
       "    <tr>\n",
       "      <th>rwd</th>\n",
       "      <td>23949.6</td>\n",
       "      <td>24202.714286</td>\n",
       "      <td>14337.777778</td>\n",
       "      <td>21711.833333</td>\n",
       "      <td>16994.222222</td>\n",
       "    </tr>\n",
       "  </tbody>\n",
       "</table>\n",
       "</div>"
      ],
      "text/plain": [
       "                   price                                            \\\n",
       "body-style   convertible       hardtop     hatchback         sedan   \n",
       "drive-wheels                                                         \n",
       "4wd                  NaN           NaN   7603.000000  12647.333333   \n",
       "fwd              11595.0   8249.000000   8396.387755   9811.800000   \n",
       "rwd              23949.6  24202.714286  14337.777778  21711.833333   \n",
       "\n",
       "                            \n",
       "body-style           wagon  \n",
       "drive-wheels                \n",
       "4wd            9095.750000  \n",
       "fwd            9997.333333  \n",
       "rwd           16994.222222  "
      ]
     },
     "execution_count": 25,
     "metadata": {},
     "output_type": "execute_result"
    }
   ],
   "source": [
    "df_pvt_t2 = df_grp_t2.pivot(index=\"drive-wheels\", columns=\"body-style\")\n",
    "df_pvt_t2"
   ]
  },
  {
   "cell_type": "markdown",
   "metadata": {},
   "source": [
    "Filling the missing data with 0."
   ]
  },
  {
   "cell_type": "code",
   "execution_count": 26,
   "metadata": {},
   "outputs": [
    {
     "data": {
      "text/html": [
       "<div>\n",
       "<style scoped>\n",
       "    .dataframe tbody tr th:only-of-type {\n",
       "        vertical-align: middle;\n",
       "    }\n",
       "\n",
       "    .dataframe tbody tr th {\n",
       "        vertical-align: top;\n",
       "    }\n",
       "\n",
       "    .dataframe thead tr th {\n",
       "        text-align: left;\n",
       "    }\n",
       "\n",
       "    .dataframe thead tr:last-of-type th {\n",
       "        text-align: right;\n",
       "    }\n",
       "</style>\n",
       "<table border=\"1\" class=\"dataframe\">\n",
       "  <thead>\n",
       "    <tr>\n",
       "      <th></th>\n",
       "      <th colspan=\"5\" halign=\"left\">price</th>\n",
       "    </tr>\n",
       "    <tr>\n",
       "      <th>body-style</th>\n",
       "      <th>convertible</th>\n",
       "      <th>hardtop</th>\n",
       "      <th>hatchback</th>\n",
       "      <th>sedan</th>\n",
       "      <th>wagon</th>\n",
       "    </tr>\n",
       "    <tr>\n",
       "      <th>drive-wheels</th>\n",
       "      <th></th>\n",
       "      <th></th>\n",
       "      <th></th>\n",
       "      <th></th>\n",
       "      <th></th>\n",
       "    </tr>\n",
       "  </thead>\n",
       "  <tbody>\n",
       "    <tr>\n",
       "      <th>4wd</th>\n",
       "      <td>0.0</td>\n",
       "      <td>0.000000</td>\n",
       "      <td>7603.000000</td>\n",
       "      <td>12647.333333</td>\n",
       "      <td>9095.750000</td>\n",
       "    </tr>\n",
       "    <tr>\n",
       "      <th>fwd</th>\n",
       "      <td>11595.0</td>\n",
       "      <td>8249.000000</td>\n",
       "      <td>8396.387755</td>\n",
       "      <td>9811.800000</td>\n",
       "      <td>9997.333333</td>\n",
       "    </tr>\n",
       "    <tr>\n",
       "      <th>rwd</th>\n",
       "      <td>23949.6</td>\n",
       "      <td>24202.714286</td>\n",
       "      <td>14337.777778</td>\n",
       "      <td>21711.833333</td>\n",
       "      <td>16994.222222</td>\n",
       "    </tr>\n",
       "  </tbody>\n",
       "</table>\n",
       "</div>"
      ],
      "text/plain": [
       "                   price                                            \\\n",
       "body-style   convertible       hardtop     hatchback         sedan   \n",
       "drive-wheels                                                         \n",
       "4wd                  0.0      0.000000   7603.000000  12647.333333   \n",
       "fwd              11595.0   8249.000000   8396.387755   9811.800000   \n",
       "rwd              23949.6  24202.714286  14337.777778  21711.833333   \n",
       "\n",
       "                            \n",
       "body-style           wagon  \n",
       "drive-wheels                \n",
       "4wd            9095.750000  \n",
       "fwd            9997.333333  \n",
       "rwd           16994.222222  "
      ]
     },
     "execution_count": 26,
     "metadata": {},
     "output_type": "execute_result"
    }
   ],
   "source": [
    "df_pvt_t2 = df_pvt_t2.fillna(0)\n",
    "df_pvt_t2"
   ]
  },
  {
   "cell_type": "markdown",
   "metadata": {},
   "source": [
    "Now it's easier to see that 'rwd-hardtop' & 'rwd-convertible' are the two most expensive categories whereas '4wd-hatchback' is the least expensive category. Another example,"
   ]
  },
  {
   "cell_type": "code",
   "execution_count": 27,
   "metadata": {},
   "outputs": [
    {
     "data": {
      "text/html": [
       "<div>\n",
       "<style scoped>\n",
       "    .dataframe tbody tr th:only-of-type {\n",
       "        vertical-align: middle;\n",
       "    }\n",
       "\n",
       "    .dataframe tbody tr th {\n",
       "        vertical-align: top;\n",
       "    }\n",
       "\n",
       "    .dataframe thead th {\n",
       "        text-align: right;\n",
       "    }\n",
       "</style>\n",
       "<table border=\"1\" class=\"dataframe\">\n",
       "  <thead>\n",
       "    <tr style=\"text-align: right;\">\n",
       "      <th></th>\n",
       "      <th>body-style</th>\n",
       "      <th>price</th>\n",
       "    </tr>\n",
       "  </thead>\n",
       "  <tbody>\n",
       "    <tr>\n",
       "      <th>0</th>\n",
       "      <td>convertible</td>\n",
       "      <td>21890.500000</td>\n",
       "    </tr>\n",
       "    <tr>\n",
       "      <th>1</th>\n",
       "      <td>hardtop</td>\n",
       "      <td>22208.500000</td>\n",
       "    </tr>\n",
       "    <tr>\n",
       "      <th>2</th>\n",
       "      <td>hatchback</td>\n",
       "      <td>9957.441176</td>\n",
       "    </tr>\n",
       "    <tr>\n",
       "      <th>3</th>\n",
       "      <td>sedan</td>\n",
       "      <td>14459.755319</td>\n",
       "    </tr>\n",
       "    <tr>\n",
       "      <th>4</th>\n",
       "      <td>wagon</td>\n",
       "      <td>12371.960000</td>\n",
       "    </tr>\n",
       "  </tbody>\n",
       "</table>\n",
       "</div>"
      ],
      "text/plain": [
       "    body-style         price\n",
       "0  convertible  21890.500000\n",
       "1      hardtop  22208.500000\n",
       "2    hatchback   9957.441176\n",
       "3        sedan  14459.755319\n",
       "4        wagon  12371.960000"
      ]
     },
     "execution_count": 27,
     "metadata": {},
     "output_type": "execute_result"
    }
   ],
   "source": [
    "df_grp_t3 = df_grp1.groupby([\"body-style\"], as_index=False).mean()\n",
    "df_grp_t3"
   ]
  },
  {
   "cell_type": "markdown",
   "metadata": {},
   "source": [
    "So the 'hardtop' ones are the most expensive whereas the 'hatchback' ones are the least expensive categories."
   ]
  },
  {
   "cell_type": "markdown",
   "metadata": {},
   "source": [
    "Another nice way to visualize the relationship between two variables is <strong>heat map</strong>. For example, 'body-style'-'drive-wheels' vs 'price' heat map,"
   ]
  },
  {
   "cell_type": "code",
   "execution_count": 28,
   "metadata": {},
   "outputs": [
    {
     "data": {
      "image/png": "[encoded data removed]",
      "text/plain": [
       "<Figure size 432x288 with 2 Axes>"
      ]
     },
     "metadata": {
      "needs_background": "light"
     },
     "output_type": "display_data"
    }
   ],
   "source": [
    "plt.pcolor(df_pvt_t2, cmap=\"RdBu_r\")\n",
    "plt.colorbar()\n",
    "plt.show()"
   ]
  },
  {
   "cell_type": "markdown",
   "metadata": {},
   "source": [
    "The above heat map is not meaningful. Let's change the labels:"
   ]
  },
  {
   "cell_type": "code",
   "execution_count": 29,
   "metadata": {},
   "outputs": [
    {
     "data": {
      "image/png": "[encoded data removed]",
      "text/plain": [
       "<Figure size 432x288 with 2 Axes>"
      ]
     },
     "metadata": {
      "needs_background": "light"
     },
     "output_type": "display_data"
    }
   ],
   "source": [
    "fig, ax = plt.subplots()\n",
    "im = ax.pcolor(df_pvt_t2, cmap=\"RdBu_r\")\n",
    "\n",
    "# Set label names.\n",
    "x_labels = df_pvt_t2.columns.levels[1]\n",
    "y_labels = df_pvt_t2.index\n",
    "# Center the ticks and the labels.\n",
    "ax.set_xticks(np.arange(df_pvt_t2.shape[1])+0.5, minor=False)\n",
    "ax.set_yticks(np.arange(df_pvt_t2.shape[0])+0.5, minor=False)\n",
    "# Insert labels.\n",
    "ax.set_xticklabels(x_labels, minor=False)\n",
    "ax.set_yticklabels(y_labels, minor=False)\n",
    "plt.xticks(rotation=90)\n",
    "\n",
    "fig.colorbar(im)\n",
    "plt.show()"
   ]
  },
  {
   "cell_type": "markdown",
   "metadata": {},
   "source": [
    "Now, it is easy to visualize that the rwd-hardtop is the most expensive category."
   ]
  },
  {
   "cell_type": "markdown",
   "metadata": {},
   "source": [
    "<h3>Correlation and Causation</h3>"
   ]
  },
  {
   "cell_type": "markdown",
   "metadata": {},
   "source": [
    "<strong>Correlation</strong>: a measure of the extent of inderdependence between variables.\n",
    "<strong>Causation</strong>: the cause-effect relationship between two variables."
   ]
  },
  {
   "cell_type": "markdown",
   "metadata": {},
   "source": [
    "<strong>Pearson correlation</strong>: measures the linear relationship between 2 variables (int, float). 1 = total positive correlation, 0 = no linear correlation, -1 = total negative correlation. It is the default method of the function \"corr()\"."
   ]
  },
  {
   "cell_type": "code",
   "execution_count": 30,
   "metadata": {},
   "outputs": [
    {
     "data": {
      "text/html": [
       "<div>\n",
       "<style scoped>\n",
       "    .dataframe tbody tr th:only-of-type {\n",
       "        vertical-align: middle;\n",
       "    }\n",
       "\n",
       "    .dataframe tbody tr th {\n",
       "        vertical-align: top;\n",
       "    }\n",
       "\n",
       "    .dataframe thead th {\n",
       "        text-align: right;\n",
       "    }\n",
       "</style>\n",
       "<table border=\"1\" class=\"dataframe\">\n",
       "  <thead>\n",
       "    <tr style=\"text-align: right;\">\n",
       "      <th></th>\n",
       "      <th>symboling</th>\n",
       "      <th>normalized-losses</th>\n",
       "      <th>wheel-base</th>\n",
       "      <th>length</th>\n",
       "      <th>width</th>\n",
       "      <th>height</th>\n",
       "      <th>curb-weight</th>\n",
       "      <th>engine-size</th>\n",
       "      <th>bore</th>\n",
       "      <th>stroke</th>\n",
       "      <th>compression-ratio</th>\n",
       "      <th>horsepower</th>\n",
       "      <th>peak-rpm</th>\n",
       "      <th>city-L/100km</th>\n",
       "      <th>highway-L/100km</th>\n",
       "      <th>price</th>\n",
       "      <th>fueltyp-diesel(0)/gas(1)</th>\n",
       "      <th>aspiration-std(1)/turbo(0)</th>\n",
       "    </tr>\n",
       "  </thead>\n",
       "  <tbody>\n",
       "    <tr>\n",
       "      <th>symboling</th>\n",
       "      <td>1.000000</td>\n",
       "      <td>0.466264</td>\n",
       "      <td>-0.535987</td>\n",
       "      <td>-0.364594</td>\n",
       "      <td>-0.242062</td>\n",
       "      <td>-0.550377</td>\n",
       "      <td>-0.233118</td>\n",
       "      <td>-0.110581</td>\n",
       "      <td>-0.140019</td>\n",
       "      <td>-0.008153</td>\n",
       "      <td>-0.182196</td>\n",
       "      <td>0.075819</td>\n",
       "      <td>0.279740</td>\n",
       "      <td>0.066183</td>\n",
       "      <td>-0.029756</td>\n",
       "      <td>-0.082391</td>\n",
       "      <td>-0.196735</td>\n",
       "      <td>0.054615</td>\n",
       "    </tr>\n",
       "    <tr>\n",
       "      <th>normalized-losses</th>\n",
       "      <td>0.466264</td>\n",
       "      <td>1.000000</td>\n",
       "      <td>-0.056661</td>\n",
       "      <td>0.019527</td>\n",
       "      <td>0.086978</td>\n",
       "      <td>-0.373608</td>\n",
       "      <td>0.099404</td>\n",
       "      <td>0.112360</td>\n",
       "      <td>-0.029862</td>\n",
       "      <td>0.055045</td>\n",
       "      <td>-0.114713</td>\n",
       "      <td>0.217299</td>\n",
       "      <td>0.239543</td>\n",
       "      <td>0.238710</td>\n",
       "      <td>0.181024</td>\n",
       "      <td>0.133999</td>\n",
       "      <td>-0.101546</td>\n",
       "      <td>0.006911</td>\n",
       "    </tr>\n",
       "    <tr>\n",
       "      <th>wheel-base</th>\n",
       "      <td>-0.535987</td>\n",
       "      <td>-0.056661</td>\n",
       "      <td>1.000000</td>\n",
       "      <td>0.875684</td>\n",
       "      <td>0.814198</td>\n",
       "      <td>0.591057</td>\n",
       "      <td>0.782097</td>\n",
       "      <td>0.572027</td>\n",
       "      <td>0.493244</td>\n",
       "      <td>0.158018</td>\n",
       "      <td>0.250313</td>\n",
       "      <td>0.371147</td>\n",
       "      <td>-0.360305</td>\n",
       "      <td>0.476255</td>\n",
       "      <td>0.577655</td>\n",
       "      <td>0.584642</td>\n",
       "      <td>0.307237</td>\n",
       "      <td>-0.256889</td>\n",
       "    </tr>\n",
       "    <tr>\n",
       "      <th>length</th>\n",
       "      <td>-0.364594</td>\n",
       "      <td>0.019527</td>\n",
       "      <td>0.875684</td>\n",
       "      <td>1.000000</td>\n",
       "      <td>0.857071</td>\n",
       "      <td>0.491653</td>\n",
       "      <td>0.880720</td>\n",
       "      <td>0.685254</td>\n",
       "      <td>0.608712</td>\n",
       "      <td>0.124261</td>\n",
       "      <td>0.159992</td>\n",
       "      <td>0.580136</td>\n",
       "      <td>-0.285631</td>\n",
       "      <td>0.657776</td>\n",
       "      <td>0.707321</td>\n",
       "      <td>0.690950</td>\n",
       "      <td>0.211409</td>\n",
       "      <td>-0.230298</td>\n",
       "    </tr>\n",
       "    <tr>\n",
       "      <th>width</th>\n",
       "      <td>-0.242062</td>\n",
       "      <td>0.086978</td>\n",
       "      <td>0.814198</td>\n",
       "      <td>0.857071</td>\n",
       "      <td>1.000000</td>\n",
       "      <td>0.305050</td>\n",
       "      <td>0.866204</td>\n",
       "      <td>0.729931</td>\n",
       "      <td>0.545097</td>\n",
       "      <td>0.189004</td>\n",
       "      <td>0.189312</td>\n",
       "      <td>0.615562</td>\n",
       "      <td>-0.245679</td>\n",
       "      <td>0.673881</td>\n",
       "      <td>0.737282</td>\n",
       "      <td>0.751697</td>\n",
       "      <td>0.243909</td>\n",
       "      <td>-0.306110</td>\n",
       "    </tr>\n",
       "    <tr>\n",
       "      <th>height</th>\n",
       "      <td>-0.550377</td>\n",
       "      <td>-0.373608</td>\n",
       "      <td>0.591057</td>\n",
       "      <td>0.491653</td>\n",
       "      <td>0.305050</td>\n",
       "      <td>1.000000</td>\n",
       "      <td>0.307522</td>\n",
       "      <td>0.074514</td>\n",
       "      <td>0.180114</td>\n",
       "      <td>-0.060438</td>\n",
       "      <td>0.260023</td>\n",
       "      <td>-0.087611</td>\n",
       "      <td>-0.310240</td>\n",
       "      <td>0.003432</td>\n",
       "      <td>0.084128</td>\n",
       "      <td>0.135283</td>\n",
       "      <td>0.281848</td>\n",
       "      <td>-0.090139</td>\n",
       "    </tr>\n",
       "    <tr>\n",
       "      <th>curb-weight</th>\n",
       "      <td>-0.233118</td>\n",
       "      <td>0.099404</td>\n",
       "      <td>0.782097</td>\n",
       "      <td>0.880720</td>\n",
       "      <td>0.866204</td>\n",
       "      <td>0.307522</td>\n",
       "      <td>1.000000</td>\n",
       "      <td>0.849072</td>\n",
       "      <td>0.644060</td>\n",
       "      <td>0.167438</td>\n",
       "      <td>0.156433</td>\n",
       "      <td>0.757976</td>\n",
       "      <td>-0.279361</td>\n",
       "      <td>0.785391</td>\n",
       "      <td>0.836978</td>\n",
       "      <td>0.834415</td>\n",
       "      <td>0.221046</td>\n",
       "      <td>-0.321955</td>\n",
       "    </tr>\n",
       "    <tr>\n",
       "      <th>engine-size</th>\n",
       "      <td>-0.110581</td>\n",
       "      <td>0.112360</td>\n",
       "      <td>0.572027</td>\n",
       "      <td>0.685254</td>\n",
       "      <td>0.729931</td>\n",
       "      <td>0.074514</td>\n",
       "      <td>0.849072</td>\n",
       "      <td>1.000000</td>\n",
       "      <td>0.572609</td>\n",
       "      <td>0.205928</td>\n",
       "      <td>0.028889</td>\n",
       "      <td>0.822676</td>\n",
       "      <td>-0.256733</td>\n",
       "      <td>0.745120</td>\n",
       "      <td>0.783518</td>\n",
       "      <td>0.872335</td>\n",
       "      <td>0.070779</td>\n",
       "      <td>-0.110040</td>\n",
       "    </tr>\n",
       "    <tr>\n",
       "      <th>bore</th>\n",
       "      <td>-0.140019</td>\n",
       "      <td>-0.029862</td>\n",
       "      <td>0.493244</td>\n",
       "      <td>0.608712</td>\n",
       "      <td>0.545097</td>\n",
       "      <td>0.180114</td>\n",
       "      <td>0.644060</td>\n",
       "      <td>0.572609</td>\n",
       "      <td>1.000000</td>\n",
       "      <td>-0.055390</td>\n",
       "      <td>0.001263</td>\n",
       "      <td>0.566936</td>\n",
       "      <td>-0.267392</td>\n",
       "      <td>0.554656</td>\n",
       "      <td>0.559095</td>\n",
       "      <td>0.543155</td>\n",
       "      <td>0.054458</td>\n",
       "      <td>-0.227816</td>\n",
       "    </tr>\n",
       "    <tr>\n",
       "      <th>stroke</th>\n",
       "      <td>-0.008153</td>\n",
       "      <td>0.055045</td>\n",
       "      <td>0.158018</td>\n",
       "      <td>0.124261</td>\n",
       "      <td>0.189004</td>\n",
       "      <td>-0.060438</td>\n",
       "      <td>0.167438</td>\n",
       "      <td>0.205928</td>\n",
       "      <td>-0.055390</td>\n",
       "      <td>1.000000</td>\n",
       "      <td>0.187871</td>\n",
       "      <td>0.098267</td>\n",
       "      <td>-0.063561</td>\n",
       "      <td>0.036130</td>\n",
       "      <td>0.047118</td>\n",
       "      <td>0.082269</td>\n",
       "      <td>0.241064</td>\n",
       "      <td>-0.218233</td>\n",
       "    </tr>\n",
       "    <tr>\n",
       "      <th>compression-ratio</th>\n",
       "      <td>-0.182196</td>\n",
       "      <td>-0.114713</td>\n",
       "      <td>0.250313</td>\n",
       "      <td>0.159992</td>\n",
       "      <td>0.189312</td>\n",
       "      <td>0.260023</td>\n",
       "      <td>0.156433</td>\n",
       "      <td>0.028889</td>\n",
       "      <td>0.001263</td>\n",
       "      <td>0.187871</td>\n",
       "      <td>1.000000</td>\n",
       "      <td>-0.214514</td>\n",
       "      <td>-0.435780</td>\n",
       "      <td>-0.299408</td>\n",
       "      <td>-0.222971</td>\n",
       "      <td>0.071107</td>\n",
       "      <td>0.985231</td>\n",
       "      <td>-0.307522</td>\n",
       "    </tr>\n",
       "    <tr>\n",
       "      <th>horsepower</th>\n",
       "      <td>0.075819</td>\n",
       "      <td>0.217299</td>\n",
       "      <td>0.371147</td>\n",
       "      <td>0.580136</td>\n",
       "      <td>0.615562</td>\n",
       "      <td>-0.087611</td>\n",
       "      <td>0.757976</td>\n",
       "      <td>0.822676</td>\n",
       "      <td>0.566936</td>\n",
       "      <td>0.098267</td>\n",
       "      <td>-0.214514</td>\n",
       "      <td>1.000000</td>\n",
       "      <td>0.107885</td>\n",
       "      <td>0.889466</td>\n",
       "      <td>0.840579</td>\n",
       "      <td>0.809575</td>\n",
       "      <td>-0.169053</td>\n",
       "      <td>-0.251127</td>\n",
       "    </tr>\n",
       "    <tr>\n",
       "      <th>peak-rpm</th>\n",
       "      <td>0.279740</td>\n",
       "      <td>0.239543</td>\n",
       "      <td>-0.360305</td>\n",
       "      <td>-0.285631</td>\n",
       "      <td>-0.245679</td>\n",
       "      <td>-0.310240</td>\n",
       "      <td>-0.279361</td>\n",
       "      <td>-0.256733</td>\n",
       "      <td>-0.267392</td>\n",
       "      <td>-0.063561</td>\n",
       "      <td>-0.435780</td>\n",
       "      <td>0.107885</td>\n",
       "      <td>1.000000</td>\n",
       "      <td>0.115821</td>\n",
       "      <td>0.017584</td>\n",
       "      <td>-0.101616</td>\n",
       "      <td>-0.475812</td>\n",
       "      <td>0.190057</td>\n",
       "    </tr>\n",
       "    <tr>\n",
       "      <th>city-L/100km</th>\n",
       "      <td>0.066183</td>\n",
       "      <td>0.238710</td>\n",
       "      <td>0.476255</td>\n",
       "      <td>0.657776</td>\n",
       "      <td>0.673881</td>\n",
       "      <td>0.003432</td>\n",
       "      <td>0.785391</td>\n",
       "      <td>0.745120</td>\n",
       "      <td>0.554656</td>\n",
       "      <td>0.036130</td>\n",
       "      <td>-0.299408</td>\n",
       "      <td>0.889466</td>\n",
       "      <td>0.115821</td>\n",
       "      <td>1.000000</td>\n",
       "      <td>0.958281</td>\n",
       "      <td>0.789917</td>\n",
       "      <td>-0.241308</td>\n",
       "      <td>-0.157545</td>\n",
       "    </tr>\n",
       "    <tr>\n",
       "      <th>highway-L/100km</th>\n",
       "      <td>-0.029756</td>\n",
       "      <td>0.181024</td>\n",
       "      <td>0.577655</td>\n",
       "      <td>0.707321</td>\n",
       "      <td>0.737282</td>\n",
       "      <td>0.084128</td>\n",
       "      <td>0.836978</td>\n",
       "      <td>0.783518</td>\n",
       "      <td>0.559095</td>\n",
       "      <td>0.047118</td>\n",
       "      <td>-0.222971</td>\n",
       "      <td>0.840579</td>\n",
       "      <td>0.017584</td>\n",
       "      <td>0.958281</td>\n",
       "      <td>1.000000</td>\n",
       "      <td>0.801259</td>\n",
       "      <td>-0.157714</td>\n",
       "      <td>-0.210772</td>\n",
       "    </tr>\n",
       "    <tr>\n",
       "      <th>price</th>\n",
       "      <td>-0.082391</td>\n",
       "      <td>0.133999</td>\n",
       "      <td>0.584642</td>\n",
       "      <td>0.690950</td>\n",
       "      <td>0.751697</td>\n",
       "      <td>0.135283</td>\n",
       "      <td>0.834415</td>\n",
       "      <td>0.872335</td>\n",
       "      <td>0.543155</td>\n",
       "      <td>0.082269</td>\n",
       "      <td>0.071107</td>\n",
       "      <td>0.809575</td>\n",
       "      <td>-0.101616</td>\n",
       "      <td>0.789917</td>\n",
       "      <td>0.801259</td>\n",
       "      <td>1.000000</td>\n",
       "      <td>0.110326</td>\n",
       "      <td>-0.179578</td>\n",
       "    </tr>\n",
       "    <tr>\n",
       "      <th>fueltyp-diesel(0)/gas(1)</th>\n",
       "      <td>-0.196735</td>\n",
       "      <td>-0.101546</td>\n",
       "      <td>0.307237</td>\n",
       "      <td>0.211409</td>\n",
       "      <td>0.243909</td>\n",
       "      <td>0.281848</td>\n",
       "      <td>0.221046</td>\n",
       "      <td>0.070779</td>\n",
       "      <td>0.054458</td>\n",
       "      <td>0.241064</td>\n",
       "      <td>0.985231</td>\n",
       "      <td>-0.169053</td>\n",
       "      <td>-0.475812</td>\n",
       "      <td>-0.241308</td>\n",
       "      <td>-0.157714</td>\n",
       "      <td>0.110326</td>\n",
       "      <td>1.000000</td>\n",
       "      <td>-0.408228</td>\n",
       "    </tr>\n",
       "    <tr>\n",
       "      <th>aspiration-std(1)/turbo(0)</th>\n",
       "      <td>0.054615</td>\n",
       "      <td>0.006911</td>\n",
       "      <td>-0.256889</td>\n",
       "      <td>-0.230298</td>\n",
       "      <td>-0.306110</td>\n",
       "      <td>-0.090139</td>\n",
       "      <td>-0.321955</td>\n",
       "      <td>-0.110040</td>\n",
       "      <td>-0.227816</td>\n",
       "      <td>-0.218233</td>\n",
       "      <td>-0.307522</td>\n",
       "      <td>-0.251127</td>\n",
       "      <td>0.190057</td>\n",
       "      <td>-0.157545</td>\n",
       "      <td>-0.210772</td>\n",
       "      <td>-0.179578</td>\n",
       "      <td>-0.408228</td>\n",
       "      <td>1.000000</td>\n",
       "    </tr>\n",
       "  </tbody>\n",
       "</table>\n",
       "</div>"
      ],
      "text/plain": [
       "                            symboling  normalized-losses  wheel-base  \\\n",
       "symboling                    1.000000           0.466264   -0.535987   \n",
       "normalized-losses            0.466264           1.000000   -0.056661   \n",
       "wheel-base                  -0.535987          -0.056661    1.000000   \n",
       "length                      -0.364594           0.019527    0.875684   \n",
       "width                       -0.242062           0.086978    0.814198   \n",
       "height                      -0.550377          -0.373608    0.591057   \n",
       "curb-weight                 -0.233118           0.099404    0.782097   \n",
       "engine-size                 -0.110581           0.112360    0.572027   \n",
       "bore                        -0.140019          -0.029862    0.493244   \n",
       "stroke                      -0.008153           0.055045    0.158018   \n",
       "compression-ratio           -0.182196          -0.114713    0.250313   \n",
       "horsepower                   0.075819           0.217299    0.371147   \n",
       "peak-rpm                     0.279740           0.239543   -0.360305   \n",
       "city-L/100km                 0.066183           0.238710    0.476255   \n",
       "highway-L/100km             -0.029756           0.181024    0.577655   \n",
       "price                       -0.082391           0.133999    0.584642   \n",
       "fueltyp-diesel(0)/gas(1)    -0.196735          -0.101546    0.307237   \n",
       "aspiration-std(1)/turbo(0)   0.054615           0.006911   -0.256889   \n",
       "\n",
       "                              length     width    height  curb-weight  \\\n",
       "symboling                  -0.364594 -0.242062 -0.550377    -0.233118   \n",
       "normalized-losses           0.019527  0.086978 -0.373608     0.099404   \n",
       "wheel-base                  0.875684  0.814198  0.591057     0.782097   \n",
       "length                      1.000000  0.857071  0.491653     0.880720   \n",
       "width                       0.857071  1.000000  0.305050     0.866204   \n",
       "height                      0.491653  0.305050  1.000000     0.307522   \n",
       "curb-weight                 0.880720  0.866204  0.307522     1.000000   \n",
       "engine-size                 0.685254  0.729931  0.074514     0.849072   \n",
       "bore                        0.608712  0.545097  0.180114     0.644060   \n",
       "stroke                      0.124261  0.189004 -0.060438     0.167438   \n",
       "compression-ratio           0.159992  0.189312  0.260023     0.156433   \n",
       "horsepower                  0.580136  0.615562 -0.087611     0.757976   \n",
       "peak-rpm                   -0.285631 -0.245679 -0.310240    -0.279361   \n",
       "city-L/100km                0.657776  0.673881  0.003432     0.785391   \n",
       "highway-L/100km             0.707321  0.737282  0.084128     0.836978   \n",
       "price                       0.690950  0.751697  0.135283     0.834415   \n",
       "fueltyp-diesel(0)/gas(1)    0.211409  0.243909  0.281848     0.221046   \n",
       "aspiration-std(1)/turbo(0) -0.230298 -0.306110 -0.090139    -0.321955   \n",
       "\n",
       "                            engine-size      bore    stroke  \\\n",
       "symboling                     -0.110581 -0.140019 -0.008153   \n",
       "normalized-losses              0.112360 -0.029862  0.055045   \n",
       "wheel-base                     0.572027  0.493244  0.158018   \n",
       "length                         0.685254  0.608712  0.124261   \n",
       "width                          0.729931  0.545097  0.189004   \n",
       "height                         0.074514  0.180114 -0.060438   \n",
       "curb-weight                    0.849072  0.644060  0.167438   \n",
       "engine-size                    1.000000  0.572609  0.205928   \n",
       "bore                           0.572609  1.000000 -0.055390   \n",
       "stroke                         0.205928 -0.055390  1.000000   \n",
       "compression-ratio              0.028889  0.001263  0.187871   \n",
       "horsepower                     0.822676  0.566936  0.098267   \n",
       "peak-rpm                      -0.256733 -0.267392 -0.063561   \n",
       "city-L/100km                   0.745120  0.554656  0.036130   \n",
       "highway-L/100km                0.783518  0.559095  0.047118   \n",
       "price                          0.872335  0.543155  0.082269   \n",
       "fueltyp-diesel(0)/gas(1)       0.070779  0.054458  0.241064   \n",
       "aspiration-std(1)/turbo(0)    -0.110040 -0.227816 -0.218233   \n",
       "\n",
       "                            compression-ratio  horsepower  peak-rpm  \\\n",
       "symboling                           -0.182196    0.075819  0.279740   \n",
       "normalized-losses                   -0.114713    0.217299  0.239543   \n",
       "wheel-base                           0.250313    0.371147 -0.360305   \n",
       "length                               0.159992    0.580136 -0.285631   \n",
       "width                                0.189312    0.615562 -0.245679   \n",
       "height                               0.260023   -0.087611 -0.310240   \n",
       "curb-weight                          0.156433    0.757976 -0.279361   \n",
       "engine-size                          0.028889    0.822676 -0.256733   \n",
       "bore                                 0.001263    0.566936 -0.267392   \n",
       "stroke                               0.187871    0.098267 -0.063561   \n",
       "compression-ratio                    1.000000   -0.214514 -0.435780   \n",
       "horsepower                          -0.214514    1.000000  0.107885   \n",
       "peak-rpm                            -0.435780    0.107885  1.000000   \n",
       "city-L/100km                        -0.299408    0.889466  0.115821   \n",
       "highway-L/100km                     -0.222971    0.840579  0.017584   \n",
       "price                                0.071107    0.809575 -0.101616   \n",
       "fueltyp-diesel(0)/gas(1)             0.985231   -0.169053 -0.475812   \n",
       "aspiration-std(1)/turbo(0)          -0.307522   -0.251127  0.190057   \n",
       "\n",
       "                            city-L/100km  highway-L/100km     price  \\\n",
       "symboling                       0.066183        -0.029756 -0.082391   \n",
       "normalized-losses               0.238710         0.181024  0.133999   \n",
       "wheel-base                      0.476255         0.577655  0.584642   \n",
       "length                          0.657776         0.707321  0.690950   \n",
       "width                           0.673881         0.737282  0.751697   \n",
       "height                          0.003432         0.084128  0.135283   \n",
       "curb-weight                     0.785391         0.836978  0.834415   \n",
       "engine-size                     0.745120         0.783518  0.872335   \n",
       "bore                            0.554656         0.559095  0.543155   \n",
       "stroke                          0.036130         0.047118  0.082269   \n",
       "compression-ratio              -0.299408        -0.222971  0.071107   \n",
       "horsepower                      0.889466         0.840579  0.809575   \n",
       "peak-rpm                        0.115821         0.017584 -0.101616   \n",
       "city-L/100km                    1.000000         0.958281  0.789917   \n",
       "highway-L/100km                 0.958281         1.000000  0.801259   \n",
       "price                           0.789917         0.801259  1.000000   \n",
       "fueltyp-diesel(0)/gas(1)       -0.241308        -0.157714  0.110326   \n",
       "aspiration-std(1)/turbo(0)     -0.157545        -0.210772 -0.179578   \n",
       "\n",
       "                            fueltyp-diesel(0)/gas(1)  \\\n",
       "symboling                                  -0.196735   \n",
       "normalized-losses                          -0.101546   \n",
       "wheel-base                                  0.307237   \n",
       "length                                      0.211409   \n",
       "width                                       0.243909   \n",
       "height                                      0.281848   \n",
       "curb-weight                                 0.221046   \n",
       "engine-size                                 0.070779   \n",
       "bore                                        0.054458   \n",
       "stroke                                      0.241064   \n",
       "compression-ratio                           0.985231   \n",
       "horsepower                                 -0.169053   \n",
       "peak-rpm                                   -0.475812   \n",
       "city-L/100km                               -0.241308   \n",
       "highway-L/100km                            -0.157714   \n",
       "price                                       0.110326   \n",
       "fueltyp-diesel(0)/gas(1)                    1.000000   \n",
       "aspiration-std(1)/turbo(0)                 -0.408228   \n",
       "\n",
       "                            aspiration-std(1)/turbo(0)  \n",
       "symboling                                     0.054615  \n",
       "normalized-losses                             0.006911  \n",
       "wheel-base                                   -0.256889  \n",
       "length                                       -0.230298  \n",
       "width                                        -0.306110  \n",
       "height                                       -0.090139  \n",
       "curb-weight                                  -0.321955  \n",
       "engine-size                                  -0.110040  \n",
       "bore                                         -0.227816  \n",
       "stroke                                       -0.218233  \n",
       "compression-ratio                            -0.307522  \n",
       "horsepower                                   -0.251127  \n",
       "peak-rpm                                      0.190057  \n",
       "city-L/100km                                 -0.157545  \n",
       "highway-L/100km                              -0.210772  \n",
       "price                                        -0.179578  \n",
       "fueltyp-diesel(0)/gas(1)                     -0.408228  \n",
       "aspiration-std(1)/turbo(0)                    1.000000  "
      ]
     },
     "execution_count": 30,
     "metadata": {},
     "output_type": "execute_result"
    }
   ],
   "source": [
    "df.corr()"
   ]
  },
  {
   "cell_type": "markdown",
   "metadata": {},
   "source": [
    "<strong>P-value</strong>: indicates the statistical significance of the correlation. <0.001: strong significance, <0.05: moderate, <0.1: weak, >0.1: no significance. To obtain p-value, 'stats' module in the 'scipy' library needs to be imported,"
   ]
  },
  {
   "cell_type": "code",
   "execution_count": 31,
   "metadata": {},
   "outputs": [],
   "source": [
    "from scipy import stats"
   ]
  },
  {
   "cell_type": "markdown",
   "metadata": {},
   "source": [
    "<u>'wheel-base' vs 'price'</u>"
   ]
  },
  {
   "cell_type": "code",
   "execution_count": 32,
   "metadata": {},
   "outputs": [
    {
     "name": "stdout",
     "output_type": "stream",
     "text": [
      "The Pearson correlation coefficient is  0.584641822265508 with a p-value of  8.076488270733218e-20\n"
     ]
    }
   ],
   "source": [
    "pearson_coef, p_val = stats.pearsonr(df[\"wheel-base\"], df[\"price\"])\n",
    "print(\"The Pearson correlation coefficient is \", pearson_coef, \"with a p-value of \", p_val)"
   ]
  },
  {
   "cell_type": "markdown",
   "metadata": {},
   "source": [
    "So, the correlation is statistically significant but the positive linear relationship is not extremely strong."
   ]
  },
  {
   "cell_type": "markdown",
   "metadata": {},
   "source": [
    "<u>'horsepower' vs 'price'</u>"
   ]
  },
  {
   "cell_type": "code",
   "execution_count": 33,
   "metadata": {},
   "outputs": [
    {
     "name": "stdout",
     "output_type": "stream",
     "text": [
      "The Pearson correlation coefficient is  0.8095745670036559 with a p-value of  6.369057428260101e-48\n"
     ]
    }
   ],
   "source": [
    "pearson_coef, p_val = stats.pearsonr(df[\"horsepower\"], df[\"price\"])\n",
    "print(\"The Pearson correlation coefficient is \", pearson_coef, \"with a p-value of \", p_val)"
   ]
  },
  {
   "cell_type": "markdown",
   "metadata": {},
   "source": [
    "So, the correlation is statistically significant and the positive linear relationship is quite strong."
   ]
  },
  {
   "cell_type": "markdown",
   "metadata": {},
   "source": [
    "<u>'length' vs 'price'</u>"
   ]
  },
  {
   "cell_type": "code",
   "execution_count": 34,
   "metadata": {},
   "outputs": [
    {
     "name": "stdout",
     "output_type": "stream",
     "text": [
      "The Pearson correlation coefficient is  0.6909495498057963 with a p-value of  7.363945337537492e-30\n"
     ]
    }
   ],
   "source": [
    "pearson_coef, p_val = stats.pearsonr(df[\"length\"], df[\"price\"])\n",
    "print(\"The Pearson correlation coefficient is \", pearson_coef, \"with a p-value of \", p_val)"
   ]
  },
  {
   "cell_type": "markdown",
   "metadata": {},
   "source": [
    "So, the correlation is statistically significant and the positive linear relationship is moderately strong."
   ]
  },
  {
   "cell_type": "markdown",
   "metadata": {},
   "source": [
    "<u>'width' vs 'price'</u>"
   ]
  },
  {
   "cell_type": "code",
   "execution_count": 35,
   "metadata": {},
   "outputs": [
    {
     "name": "stdout",
     "output_type": "stream",
     "text": [
      "The Pearson correlation coefficient is  0.7516968106677372 with a p-value of  7.928309043989401e-38\n"
     ]
    }
   ],
   "source": [
    "pearson_coef, p_val = stats.pearsonr(df[\"width\"], df[\"price\"])\n",
    "print(\"The Pearson correlation coefficient is \", pearson_coef, \"with a p-value of \", p_val)"
   ]
  },
  {
   "cell_type": "markdown",
   "metadata": {},
   "source": [
    "So, the correlation is statistically significant and the positive linear relationship is quite strong."
   ]
  },
  {
   "cell_type": "markdown",
   "metadata": {},
   "source": [
    "<u>'curb-weight' vs 'price'</u>"
   ]
  },
  {
   "cell_type": "code",
   "execution_count": 36,
   "metadata": {},
   "outputs": [
    {
     "name": "stdout",
     "output_type": "stream",
     "text": [
      "The Pearson correlation coefficient is  0.8344145257702843 with a p-value of  2.189577238894065e-53\n"
     ]
    }
   ],
   "source": [
    "pearson_coef, p_val = stats.pearsonr(df[\"curb-weight\"], df[\"price\"])\n",
    "print(\"The Pearson correlation coefficient is \", pearson_coef, \"with a p-value of \", p_val)"
   ]
  },
  {
   "cell_type": "markdown",
   "metadata": {},
   "source": [
    "So, the correlation is statistically significant and the positive linear relationship is quite strong."
   ]
  },
  {
   "cell_type": "markdown",
   "metadata": {},
   "source": [
    "<u>'engine-size' vs 'price'</u>"
   ]
  },
  {
   "cell_type": "code",
   "execution_count": 37,
   "metadata": {},
   "outputs": [
    {
     "name": "stdout",
     "output_type": "stream",
     "text": [
      "The Pearson correlation coefficient is  0.8723351674455185 with a p-value of  9.265491622198389e-64\n"
     ]
    }
   ],
   "source": [
    "pearson_coef, p_val = stats.pearsonr(df[\"engine-size\"], df[\"price\"])\n",
    "print(\"The Pearson correlation coefficient is \", pearson_coef, \"with a p-value of \", p_val)"
   ]
  },
  {
   "cell_type": "markdown",
   "metadata": {},
   "source": [
    "So, the correlation is statistically significant and the positive linear relationship is very strong."
   ]
  },
  {
   "cell_type": "markdown",
   "metadata": {},
   "source": [
    "<u>'bore' vs 'price'</u>"
   ]
  },
  {
   "cell_type": "code",
   "execution_count": 38,
   "metadata": {},
   "outputs": [
    {
     "name": "stdout",
     "output_type": "stream",
     "text": [
      "The Pearson correlation coefficient is  0.5431553832626602 with a p-value of  8.049189483935489e-17\n"
     ]
    }
   ],
   "source": [
    "pearson_coef, p_val = stats.pearsonr(df[\"bore\"], df[\"price\"])\n",
    "print(\"The Pearson correlation coefficient is \", pearson_coef, \"with a p-value of \", p_val)"
   ]
  },
  {
   "cell_type": "markdown",
   "metadata": {},
   "source": [
    "So, the correlation is statistically significant but the positive linear relationship is not very strong."
   ]
  },
  {
   "cell_type": "markdown",
   "metadata": {},
   "source": [
    "<u>'city-L/100km' vs 'price'</u>"
   ]
  },
  {
   "cell_type": "code",
   "execution_count": 39,
   "metadata": {},
   "outputs": [
    {
     "name": "stdout",
     "output_type": "stream",
     "text": [
      "The Pearson correlation coefficient is  0.7899173587120637 with a p-value of  3.8707665631722197e-44\n"
     ]
    }
   ],
   "source": [
    "pearson_coef, p_val = stats.pearsonr(df[\"city-L/100km\"], df[\"price\"])\n",
    "print(\"The Pearson correlation coefficient is \", pearson_coef, \"with a p-value of \", p_val)"
   ]
  },
  {
   "cell_type": "markdown",
   "metadata": {},
   "source": [
    "So, the correlation is statistically significant and the positive linear relationship is quite strong."
   ]
  },
  {
   "cell_type": "markdown",
   "metadata": {},
   "source": [
    "<u>'highway-L/100km' vs 'price'</u>"
   ]
  },
  {
   "cell_type": "code",
   "execution_count": 40,
   "metadata": {},
   "outputs": [
    {
     "name": "stdout",
     "output_type": "stream",
     "text": [
      "The Pearson correlation coefficient is  0.8012592153505532 with a p-value of  2.8601462579813982e-46\n"
     ]
    }
   ],
   "source": [
    "pearson_coef, p_val = stats.pearsonr(df[\"highway-L/100km\"], df[\"price\"])\n",
    "print(\"The Pearson correlation coefficient is \", pearson_coef, \"with a p-value of \", p_val)"
   ]
  },
  {
   "cell_type": "markdown",
   "metadata": {},
   "source": [
    "So, the correlation is statistically significant and the positive linear relationship is quite strong."
   ]
  },
  {
   "cell_type": "markdown",
   "metadata": {},
   "source": [
    "Similarly - symboling, normalized-losses, height, stroke, compression-ratio, peak-rpm: their correlations with price are statistically insignificant."
   ]
  },
  {
   "cell_type": "markdown",
   "metadata": {},
   "source": [
    "<h3>ANOVA: Analysis of Variance</h3>"
   ]
  },
  {
   "cell_type": "markdown",
   "metadata": {},
   "source": [
    "It tests whether there are significant differences between the means of two or more groups. It returns two parameters:\n",
    "<p><strong>F-test score</strong>: ANOVA assumes all groups have same mean. F-test score shows how much the actual means deviate from the assumption.</p>\n",
    "<p><strong>P-value</strong>: It shows the statistical significance of the F-test score.</p>"
   ]
  },
  {
   "cell_type": "markdown",
   "metadata": {},
   "source": [
    "Categorical variables: make, num-of-doors, body-style, drive-wheels, engine-location, engine-type, num-of-cylinders, fuel-system, hrspwr-binned."
   ]
  },
  {
   "cell_type": "markdown",
   "metadata": {},
   "source": [
    "<u>drive-wheels</u>"
   ]
  },
  {
   "cell_type": "code",
   "execution_count": 41,
   "metadata": {},
   "outputs": [
    {
     "data": {
      "text/html": [
       "<div>\n",
       "<style scoped>\n",
       "    .dataframe tbody tr th:only-of-type {\n",
       "        vertical-align: middle;\n",
       "    }\n",
       "\n",
       "    .dataframe tbody tr th {\n",
       "        vertical-align: top;\n",
       "    }\n",
       "\n",
       "    .dataframe thead th {\n",
       "        text-align: right;\n",
       "    }\n",
       "</style>\n",
       "<table border=\"1\" class=\"dataframe\">\n",
       "  <thead>\n",
       "    <tr style=\"text-align: right;\">\n",
       "      <th></th>\n",
       "      <th>drive-wheels</th>\n",
       "      <th>price</th>\n",
       "    </tr>\n",
       "  </thead>\n",
       "  <tbody>\n",
       "    <tr>\n",
       "      <th>0</th>\n",
       "      <td>rwd</td>\n",
       "      <td>13495.0</td>\n",
       "    </tr>\n",
       "    <tr>\n",
       "      <th>3</th>\n",
       "      <td>fwd</td>\n",
       "      <td>13950.0</td>\n",
       "    </tr>\n",
       "    <tr>\n",
       "      <th>4</th>\n",
       "      <td>4wd</td>\n",
       "      <td>17450.0</td>\n",
       "    </tr>\n",
       "  </tbody>\n",
       "</table>\n",
       "</div>"
      ],
      "text/plain": [
       "  drive-wheels    price\n",
       "0          rwd  13495.0\n",
       "3          fwd  13950.0\n",
       "4          4wd  17450.0"
      ]
     },
     "execution_count": 41,
     "metadata": {},
     "output_type": "execute_result"
    }
   ],
   "source": [
    "df_anova_grp1 = df[[\"drive-wheels\", \"price\"]].groupby([\"drive-wheels\"])\n",
    "df_anova_grp1.head(1)"
   ]
  },
  {
   "cell_type": "code",
   "execution_count": 42,
   "metadata": {},
   "outputs": [
    {
     "name": "stdout",
     "output_type": "stream",
     "text": [
      "Data points available: rwd - 75 , fwd - 118 , 4wd - 8\n"
     ]
    }
   ],
   "source": [
    "print(\"Data points available: rwd -\", df_anova_grp1.get_group(\"rwd\")[\"price\"].size, \", fwd -\", \n",
    "      df_anova_grp1.get_group(\"fwd\")[\"price\"].size, \", 4wd -\", df_anova_grp1.get_group(\"4wd\")[\"price\"].size)"
   ]
  },
  {
   "cell_type": "markdown",
   "metadata": {},
   "source": [
    "Here, '4wd' has very few data points. Let's do an ANOVA test:"
   ]
  },
  {
   "cell_type": "code",
   "execution_count": 43,
   "metadata": {},
   "outputs": [
    {
     "name": "stdout",
     "output_type": "stream",
     "text": [
      "ANOVA results: F =  67.95406500780398 , P =  3.3945443577151245e-23\n"
     ]
    }
   ],
   "source": [
    "f_val, p_val = stats.f_oneway(df_anova_grp1.get_group(\"rwd\")[\"price\"], df_anova_grp1.get_group(\"fwd\")[\"price\"],\n",
    "                             df_anova_grp1.get_group(\"4wd\")[\"price\"])\n",
    "print(\"ANOVA results: F = \", f_val, \", P = \", p_val)"
   ]
  },
  {
   "cell_type": "markdown",
   "metadata": {},
   "source": [
    "Here, the correlation is quite strong and statistically significant. But is true for all the groups?"
   ]
  },
  {
   "cell_type": "code",
   "execution_count": 44,
   "metadata": {},
   "outputs": [
    {
     "name": "stdout",
     "output_type": "stream",
     "text": [
      "ANOVA results for rwd & fwd: F =  130.55331609591104 , P =  2.235530635567824e-23\n",
      "ANOVA results for 4wd & fwd: F =  0.665465750252303 , P =  0.41620116697845666\n",
      "ANOVA results for rwd & 4wd: F =  8.580681368924756 , P =  0.004411492211225333\n"
     ]
    }
   ],
   "source": [
    "f_val, p_val = stats.f_oneway(df_anova_grp1.get_group(\"rwd\")[\"price\"], df_anova_grp1.get_group(\"fwd\")[\"price\"])\n",
    "print(\"ANOVA results for rwd & fwd: F = \", f_val, \", P = \", p_val)\n",
    "f_val, p_val = stats.f_oneway(df_anova_grp1.get_group(\"4wd\")[\"price\"], df_anova_grp1.get_group(\"fwd\")[\"price\"])\n",
    "print(\"ANOVA results for 4wd & fwd: F = \", f_val, \", P = \", p_val)\n",
    "f_val, p_val = stats.f_oneway(df_anova_grp1.get_group(\"rwd\")[\"price\"], df_anova_grp1.get_group(\"4wd\")[\"price\"])\n",
    "print(\"ANOVA results for rwd & 4wd: F = \", f_val, \", P = \", p_val)"
   ]
  },
  {
   "cell_type": "markdown",
   "metadata": {},
   "source": [
    "So the correlation is only strong and statistically significant for 'rwd' and 'fwd', as the data points for '4wd' are not sufficient."
   ]
  },
  {
   "cell_type": "code",
   "execution_count": 47,
   "metadata": {},
   "outputs": [
    {
     "name": "stdout",
     "output_type": "stream",
     "text": [
      "    engine-location    price\n",
      "0             front  13495.0\n",
      "123            rear  32528.0\n",
      "198 3\n",
      "ANOVA results: F =  24.495550318865693 , P =  1.583490019777699e-06\n"
     ]
    }
   ],
   "source": [
    "# ANOVA testing for other groups.\n",
    "grp_name = \"engine-location\"\n",
    "df_anova_grp2 = df[[grp_name, \"price\"]].groupby([grp_name])\n",
    "print(df_anova_grp2.head(1))\n",
    "print(df_anova_grp2.get_group(\"front\")[\"price\"].size, df_anova_grp2.get_group(\"rear\")[\"price\"].size)\n",
    "f_val, p_val = stats.f_oneway(df_anova_grp2.get_group(\"front\")[\"price\"], df_anova_grp2.get_group(\"rear\")[\"price\"])\n",
    "print(\"ANOVA results: F = \", f_val, \", P = \", p_val)"
   ]
  },
  {
   "cell_type": "markdown",
   "metadata": {},
   "source": [
    "Correlations of other categorical variables' groups: <u>'num-of-doors'</u> - weak & insignificant ~0.35, <u>'body-style'</u>: significant but weak ~9 (quick look: 'convertible-hatchback' and 'hardtop-hatchback' - significant and moderately strong ~30 but data points are very few for 'convertible' and 'hardtop'), <u>'engine-location'</u>: significant and moderatly strong ~25 ('rear' only has 3 data points), <u>'engine-type'</u>: significant but weak ~10 (quick look: all are weak), <u>'num-of-cylinders'</u>: significant and strong ~55 (quick look: 'four-six' ~157 - significant and strong, the other groups have a few data points), <u>'fuel-system'</u>: significant but not so strong ~15 (quick look: 'mpfi-2bbl' ~87, 'idi-2bbl' ~70 - significant and strong, and the others have a few data points), <u>'hrspwr-binned'</u>: significant and strong ~124 (quick look: 'Low-Medium' ~188 - significant and strong, 'High' has only 5 data points), <u>'make'</u>: significant and moderately strong ~33 (needs more observations)."
   ]
  },
  {
   "cell_type": "markdown",
   "metadata": {},
   "source": [
    "<h3>Conclusion: Important Variables</h3>"
   ]
  },
  {
   "cell_type": "markdown",
   "metadata": {},
   "source": [
    "<p>Now we have a clear idea of which variables are important in predicting the target variable 'price'.</p>\n",
    "<p><strong>Continuous numerical variables:</strong> length, width, curb-weight, engine-size, horsepower, wheel-base, bore, city-L/100km, highway-L/100km.</p>\n",
    "<p><strong>Categorical variables:</strong> drive-wheels, num-of-cylinders, fuel-system, hrspwr-binned, make.</p>"
   ]
  },
  {
   "cell_type": "code",
   "execution_count": null,
   "metadata": {},
   "outputs": [],
   "source": []
  }
 ],
 "metadata": {
  "kernelspec": {
   "display_name": "Python",
   "language": "python",
   "name": "conda-env-python-py"
  },
  "language_info": {
   "codemirror_mode": {
    "name": "ipython",
    "version": 3
   },
   "file_extension": ".py",
   "mimetype": "text/x-python",
   "name": "python",
   "nbconvert_exporter": "python",
   "pygments_lexer": "ipython3",
   "version": "3.6.11"
  }
 },
 "nbformat": 4,
 "nbformat_minor": 4
}
